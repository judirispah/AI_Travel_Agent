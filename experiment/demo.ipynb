{
 "cells": [
  {
   "cell_type": "code",
   "execution_count": null,
   "id": "52235417",
   "metadata": {},
   "outputs": [],
   "source": []
  },
  {
   "cell_type": "code",
   "execution_count": null,
   "id": "e559124a",
   "metadata": {},
   "outputs": [],
   "source": []
  },
  {
   "cell_type": "code",
   "execution_count": null,
   "id": "01a17964",
   "metadata": {},
   "outputs": [],
   "source": []
  },
  {
   "cell_type": "code",
   "execution_count": 9,
   "id": "f1d985ca",
   "metadata": {},
   "outputs": [
    {
     "data": {
      "text/plain": [
       "'Google cannot find the details due to REQUEST_DENIED (You must enable Billing on the Google Cloud Project at https://console.cloud.google.com/project/_/billing/enable Learn more at https://developers.google.com/maps/gmp-get-started). \\nFollowing are the modes of transportation available in tirunelveli: Tirunelveli offers several transportation modes for both local and long-distance travel. Road transport includes buses that serve even remote parts of the district, along with various taxi and cab services ranging from standard taxis for short city trips to luxury cars for premium travel experiences. The city has well-established bus stations and railway connectivity for train travel. Air transport is available through the local airport, and the city also has access to seaport facilities for maritime transport. Call taxis provide a convenient option for tourists looking to explore popular destinations and scenic areas around the city, offering an efficient and simple transportation solution for visitors.'"
      ]
     },
     "execution_count": 9,
     "metadata": {},
     "output_type": "execute_result"
    }
   ],
   "source": [
    "from tools.activity import PlaceTool\n",
    "\n",
    "place=PlaceTool()\n",
    "place.place_search_tool_list[3].run('tirunelveli')"
   ]
  },
  {
   "cell_type": "code",
   "execution_count": 11,
   "id": "710368da",
   "metadata": {},
   "outputs": [
    {
     "data": {
      "text/plain": [
       "[StructuredTool(name='search_attractions', description='Search attractions of a place', args_schema=<class 'langchain_core.utils.pydantic.search_attractions'>, func=<function PlaceTool._setup_tools.<locals>.search_attractions at 0x0000020B0C2507C0>),\n",
       " StructuredTool(name='search_restaurants', description='Search restaurants of a place', args_schema=<class 'langchain_core.utils.pydantic.search_restaurants'>, func=<function PlaceTool._setup_tools.<locals>.search_restaurants at 0x0000020B0C2523E0>),\n",
       " StructuredTool(name='search_activities', description='Search activities of a place', args_schema=<class 'langchain_core.utils.pydantic.search_activities'>, func=<function PlaceTool._setup_tools.<locals>.search_activities at 0x0000020B0C250C20>),\n",
       " StructuredTool(name='search_transportation', description='Search transportation of a place', args_schema=<class 'langchain_core.utils.pydantic.search_transportation'>, func=<function PlaceTool._setup_tools.<locals>.search_transportation at 0x0000020B0C251BC0>)]"
      ]
     },
     "execution_count": 11,
     "metadata": {},
     "output_type": "execute_result"
    }
   ],
   "source": [
    "from tools.activity import PlaceTool\n",
    "\n",
    "place = PlaceTool()\n",
    "\n",
    "# Run tool: 0 = search_attractions\n",
    "place.place_search_tool_list\n",
    "\n"
   ]
  },
  {
   "cell_type": "code",
   "execution_count": 1,
   "id": "384c2e1c",
   "metadata": {},
   "outputs": [
    {
     "name": "stdout",
     "output_type": "stream",
     "text": [
      "{'cod': '200', 'message': 0, 'cnt': 10, 'list': [{'dt': 1752764400, 'main': {'temp': 26.09, 'feels_like': 26.09, 'temp_min': 25.57, 'temp_max': 26.09, 'pressure': 1008, 'sea_level': 1008, 'grnd_level': 1008, 'humidity': 82, 'temp_kf': 0.52}, 'weather': [{'id': 804, 'main': 'Clouds', 'description': 'overcast clouds', 'icon': '04n'}], 'clouds': {'all': 86}, 'wind': {'speed': 11.92, 'deg': 290, 'gust': 17.33}, 'visibility': 10000, 'pop': 0.21, 'sys': {'pod': 'n'}, 'dt_txt': '2025-07-17 15:00:00'}, {'dt': 1752775200, 'main': {'temp': 25.82, 'feels_like': 26.65, 'temp_min': 25.56, 'temp_max': 25.82, 'pressure': 1008, 'sea_level': 1008, 'grnd_level': 1008, 'humidity': 84, 'temp_kf': 0.26}, 'weather': [{'id': 804, 'main': 'Clouds', 'description': 'overcast clouds', 'icon': '04n'}], 'clouds': {'all': 93}, 'wind': {'speed': 12.06, 'deg': 289, 'gust': 17.18}, 'visibility': 10000, 'pop': 0.14, 'sys': {'pod': 'n'}, 'dt_txt': '2025-07-17 18:00:00'}, {'dt': 1752786000, 'main': {'temp': 25.6, 'feels_like': 26.33, 'temp_min': 25.6, 'temp_max': 25.6, 'pressure': 1006, 'sea_level': 1006, 'grnd_level': 1005, 'humidity': 81, 'temp_kf': 0}, 'weather': [{'id': 804, 'main': 'Clouds', 'description': 'overcast clouds', 'icon': '04n'}], 'clouds': {'all': 100}, 'wind': {'speed': 9.94, 'deg': 288, 'gust': 15.62}, 'visibility': 10000, 'pop': 0, 'sys': {'pod': 'n'}, 'dt_txt': '2025-07-17 21:00:00'}, {'dt': 1752796800, 'main': {'temp': 25.35, 'feels_like': 26, 'temp_min': 25.35, 'temp_max': 25.35, 'pressure': 1007, 'sea_level': 1007, 'grnd_level': 1006, 'humidity': 79, 'temp_kf': 0}, 'weather': [{'id': 804, 'main': 'Clouds', 'description': 'overcast clouds', 'icon': '04n'}], 'clouds': {'all': 100}, 'wind': {'speed': 10.64, 'deg': 292, 'gust': 16.37}, 'visibility': 10000, 'pop': 0, 'sys': {'pod': 'n'}, 'dt_txt': '2025-07-18 00:00:00'}, {'dt': 1752807600, 'main': {'temp': 25.38, 'feels_like': 26.06, 'temp_min': 25.38, 'temp_max': 25.38, 'pressure': 1010, 'sea_level': 1010, 'grnd_level': 1008, 'humidity': 80, 'temp_kf': 0}, 'weather': [{'id': 804, 'main': 'Clouds', 'description': 'overcast clouds', 'icon': '04d'}], 'clouds': {'all': 100}, 'wind': {'speed': 11.28, 'deg': 289, 'gust': 16.77}, 'visibility': 10000, 'pop': 0, 'sys': {'pod': 'd'}, 'dt_txt': '2025-07-18 03:00:00'}, {'dt': 1752818400, 'main': {'temp': 26.98, 'feels_like': 29.33, 'temp_min': 26.98, 'temp_max': 26.98, 'pressure': 1009, 'sea_level': 1009, 'grnd_level': 1007, 'humidity': 76, 'temp_kf': 0}, 'weather': [{'id': 804, 'main': 'Clouds', 'description': 'overcast clouds', 'icon': '04d'}], 'clouds': {'all': 100}, 'wind': {'speed': 11.88, 'deg': 290, 'gust': 17.15}, 'visibility': 10000, 'pop': 0, 'sys': {'pod': 'd'}, 'dt_txt': '2025-07-18 06:00:00'}, {'dt': 1752829200, 'main': {'temp': 27.45, 'feels_like': 29.96, 'temp_min': 27.45, 'temp_max': 27.45, 'pressure': 1006, 'sea_level': 1006, 'grnd_level': 1005, 'humidity': 73, 'temp_kf': 0}, 'weather': [{'id': 804, 'main': 'Clouds', 'description': 'overcast clouds', 'icon': '04d'}], 'clouds': {'all': 100}, 'wind': {'speed': 12.73, 'deg': 286, 'gust': 18.08}, 'visibility': 10000, 'pop': 0, 'sys': {'pod': 'd'}, 'dt_txt': '2025-07-18 09:00:00'}, {'dt': 1752840000, 'main': {'temp': 27.25, 'feels_like': 29.48, 'temp_min': 27.25, 'temp_max': 27.25, 'pressure': 1006, 'sea_level': 1006, 'grnd_level': 1005, 'humidity': 72, 'temp_kf': 0}, 'weather': [{'id': 804, 'main': 'Clouds', 'description': 'overcast clouds', 'icon': '04d'}], 'clouds': {'all': 100}, 'wind': {'speed': 12.92, 'deg': 293, 'gust': 18.99}, 'visibility': 10000, 'pop': 0, 'sys': {'pod': 'd'}, 'dt_txt': '2025-07-18 12:00:00'}, {'dt': 1752850800, 'main': {'temp': 26.9, 'feels_like': 28.69, 'temp_min': 26.9, 'temp_max': 26.9, 'pressure': 1009, 'sea_level': 1009, 'grnd_level': 1007, 'humidity': 70, 'temp_kf': 0}, 'weather': [{'id': 804, 'main': 'Clouds', 'description': 'overcast clouds', 'icon': '04n'}], 'clouds': {'all': 99}, 'wind': {'speed': 12.17, 'deg': 297, 'gust': 18.32}, 'visibility': 10000, 'pop': 0, 'sys': {'pod': 'n'}, 'dt_txt': '2025-07-18 15:00:00'}, {'dt': 1752861600, 'main': {'temp': 26.36, 'feels_like': 26.36, 'temp_min': 26.36, 'temp_max': 26.36, 'pressure': 1008, 'sea_level': 1008, 'grnd_level': 1007, 'humidity': 76, 'temp_kf': 0}, 'weather': [{'id': 804, 'main': 'Clouds', 'description': 'overcast clouds', 'icon': '04n'}], 'clouds': {'all': 98}, 'wind': {'speed': 11.37, 'deg': 293, 'gust': 17.86}, 'visibility': 10000, 'pop': 0, 'sys': {'pod': 'n'}, 'dt_txt': '2025-07-18 18:00:00'}], 'city': {'id': 1262204, 'name': 'Kanyakumari', 'coord': {'lat': 8.0793, 'lon': 77.5499}, 'country': 'IN', 'population': 213858, 'timezone': 19800, 'sunrise': 1752712770, 'sunset': 1752757918}}\n",
      "{'dt': 1752764400, 'main': {'temp': 26.09, 'feels_like': 26.09, 'temp_min': 25.57, 'temp_max': 26.09, 'pressure': 1008, 'sea_level': 1008, 'grnd_level': 1008, 'humidity': 82, 'temp_kf': 0.52}, 'weather': [{'id': 804, 'main': 'Clouds', 'description': 'overcast clouds', 'icon': '04n'}], 'clouds': {'all': 86}, 'wind': {'speed': 11.92, 'deg': 290, 'gust': 17.33}, 'visibility': 10000, 'pop': 0.21, 'sys': {'pod': 'n'}, 'dt_txt': '2025-07-17 15:00:00'}\n",
      "{'dt': 1752775200, 'main': {'temp': 25.82, 'feels_like': 26.65, 'temp_min': 25.56, 'temp_max': 25.82, 'pressure': 1008, 'sea_level': 1008, 'grnd_level': 1008, 'humidity': 84, 'temp_kf': 0.26}, 'weather': [{'id': 804, 'main': 'Clouds', 'description': 'overcast clouds', 'icon': '04n'}], 'clouds': {'all': 93}, 'wind': {'speed': 12.06, 'deg': 289, 'gust': 17.18}, 'visibility': 10000, 'pop': 0.14, 'sys': {'pod': 'n'}, 'dt_txt': '2025-07-17 18:00:00'}\n",
      "{'dt': 1752786000, 'main': {'temp': 25.6, 'feels_like': 26.33, 'temp_min': 25.6, 'temp_max': 25.6, 'pressure': 1006, 'sea_level': 1006, 'grnd_level': 1005, 'humidity': 81, 'temp_kf': 0}, 'weather': [{'id': 804, 'main': 'Clouds', 'description': 'overcast clouds', 'icon': '04n'}], 'clouds': {'all': 100}, 'wind': {'speed': 9.94, 'deg': 288, 'gust': 15.62}, 'visibility': 10000, 'pop': 0, 'sys': {'pod': 'n'}, 'dt_txt': '2025-07-17 21:00:00'}\n",
      "{'dt': 1752796800, 'main': {'temp': 25.35, 'feels_like': 26, 'temp_min': 25.35, 'temp_max': 25.35, 'pressure': 1007, 'sea_level': 1007, 'grnd_level': 1006, 'humidity': 79, 'temp_kf': 0}, 'weather': [{'id': 804, 'main': 'Clouds', 'description': 'overcast clouds', 'icon': '04n'}], 'clouds': {'all': 100}, 'wind': {'speed': 10.64, 'deg': 292, 'gust': 16.37}, 'visibility': 10000, 'pop': 0, 'sys': {'pod': 'n'}, 'dt_txt': '2025-07-18 00:00:00'}\n",
      "{'dt': 1752807600, 'main': {'temp': 25.38, 'feels_like': 26.06, 'temp_min': 25.38, 'temp_max': 25.38, 'pressure': 1010, 'sea_level': 1010, 'grnd_level': 1008, 'humidity': 80, 'temp_kf': 0}, 'weather': [{'id': 804, 'main': 'Clouds', 'description': 'overcast clouds', 'icon': '04d'}], 'clouds': {'all': 100}, 'wind': {'speed': 11.28, 'deg': 289, 'gust': 16.77}, 'visibility': 10000, 'pop': 0, 'sys': {'pod': 'd'}, 'dt_txt': '2025-07-18 03:00:00'}\n",
      "{'dt': 1752818400, 'main': {'temp': 26.98, 'feels_like': 29.33, 'temp_min': 26.98, 'temp_max': 26.98, 'pressure': 1009, 'sea_level': 1009, 'grnd_level': 1007, 'humidity': 76, 'temp_kf': 0}, 'weather': [{'id': 804, 'main': 'Clouds', 'description': 'overcast clouds', 'icon': '04d'}], 'clouds': {'all': 100}, 'wind': {'speed': 11.88, 'deg': 290, 'gust': 17.15}, 'visibility': 10000, 'pop': 0, 'sys': {'pod': 'd'}, 'dt_txt': '2025-07-18 06:00:00'}\n",
      "{'dt': 1752829200, 'main': {'temp': 27.45, 'feels_like': 29.96, 'temp_min': 27.45, 'temp_max': 27.45, 'pressure': 1006, 'sea_level': 1006, 'grnd_level': 1005, 'humidity': 73, 'temp_kf': 0}, 'weather': [{'id': 804, 'main': 'Clouds', 'description': 'overcast clouds', 'icon': '04d'}], 'clouds': {'all': 100}, 'wind': {'speed': 12.73, 'deg': 286, 'gust': 18.08}, 'visibility': 10000, 'pop': 0, 'sys': {'pod': 'd'}, 'dt_txt': '2025-07-18 09:00:00'}\n",
      "{'dt': 1752840000, 'main': {'temp': 27.25, 'feels_like': 29.48, 'temp_min': 27.25, 'temp_max': 27.25, 'pressure': 1006, 'sea_level': 1006, 'grnd_level': 1005, 'humidity': 72, 'temp_kf': 0}, 'weather': [{'id': 804, 'main': 'Clouds', 'description': 'overcast clouds', 'icon': '04d'}], 'clouds': {'all': 100}, 'wind': {'speed': 12.92, 'deg': 293, 'gust': 18.99}, 'visibility': 10000, 'pop': 0, 'sys': {'pod': 'd'}, 'dt_txt': '2025-07-18 12:00:00'}\n",
      "{'dt': 1752850800, 'main': {'temp': 26.9, 'feels_like': 28.69, 'temp_min': 26.9, 'temp_max': 26.9, 'pressure': 1009, 'sea_level': 1009, 'grnd_level': 1007, 'humidity': 70, 'temp_kf': 0}, 'weather': [{'id': 804, 'main': 'Clouds', 'description': 'overcast clouds', 'icon': '04n'}], 'clouds': {'all': 99}, 'wind': {'speed': 12.17, 'deg': 297, 'gust': 18.32}, 'visibility': 10000, 'pop': 0, 'sys': {'pod': 'n'}, 'dt_txt': '2025-07-18 15:00:00'}\n",
      "{'dt': 1752861600, 'main': {'temp': 26.36, 'feels_like': 26.36, 'temp_min': 26.36, 'temp_max': 26.36, 'pressure': 1008, 'sea_level': 1008, 'grnd_level': 1007, 'humidity': 76, 'temp_kf': 0}, 'weather': [{'id': 804, 'main': 'Clouds', 'description': 'overcast clouds', 'icon': '04n'}], 'clouds': {'all': 98}, 'wind': {'speed': 11.37, 'deg': 293, 'gust': 17.86}, 'visibility': 10000, 'pop': 0, 'sys': {'pod': 'n'}, 'dt_txt': '2025-07-18 18:00:00'}\n"
     ]
    },
    {
     "data": {
      "text/plain": [
       "'Weather forecast for kanyakumari:\\n2025-07-17: 26.09 degree celcius , overcast clouds\\n2025-07-18: 25.35 degree celcius , overcast clouds'"
      ]
     },
     "execution_count": 1,
     "metadata": {},
     "output_type": "execute_result"
    }
   ],
   "source": [
    "from tools.weather import WeatherInfoTool\n",
    "weather=WeatherInfoTool()\n",
    "weather.weather_tool_list[1].invoke('kanyakumari')"
   ]
  },
  {
   "cell_type": "code",
   "execution_count": 17,
   "id": "464cef54",
   "metadata": {},
   "outputs": [],
   "source": [
    "a={'name':[{'id':3,'dep':{'a':'ece','b':'be'}},{'id':2},{'id':1,'f':['fj']}]}"
   ]
  },
  {
   "cell_type": "code",
   "execution_count": 13,
   "id": "4843d645",
   "metadata": {},
   "outputs": [
    {
     "data": {
      "text/plain": [
       "[{'id': 3, 'dep': {'a': 'ece', 'b': 'be'}}, {'id': 2}, {'id': 1}]"
      ]
     },
     "execution_count": 13,
     "metadata": {},
     "output_type": "execute_result"
    }
   ],
   "source": [
    "a['name']"
   ]
  },
  {
   "cell_type": "code",
   "execution_count": 18,
   "id": "bee473e8",
   "metadata": {},
   "outputs": [
    {
     "name": "stdout",
     "output_type": "stream",
     "text": [
      "['fj']\n"
     ]
    }
   ],
   "source": [
    "for i in a['name']:\n",
    "    if i['id']==1:\n",
    "        print(i['f'])\n",
    "    "
   ]
  },
  {
   "cell_type": "code",
   "execution_count": 20,
   "id": "97645ad4",
   "metadata": {},
   "outputs": [
    {
     "name": "stdout",
     "output_type": "stream",
     "text": [
      "{\"status\":false,\"message\":[{\"arrival_date\":\"Invalid value\"},{\"arrival_date\":\"Invalid value\"},{\"departure_date\":\"Invalid value\"},{\"departure_date\":\"Invalid value\"},{\"location\":\"Location must be exactly 2 characters\"},{\"location\":\"Location not found\"}]}\n"
     ]
    }
   ],
   "source": [
    "import http.client\n",
    "\n",
    "conn = http.client.HTTPSConnection(\"booking-com15.p.rapidapi.com\")\n",
    "\n",
    "headers = {\n",
    "    'x-rapidapi-key': \"e18f0f79a1mshfa280ca5111a252p1ea784jsnd0d436235bfd\",\n",
    "    'x-rapidapi-host': \"booking-com15.p.rapidapi.com\"\n",
    "}\n",
    "\n",
    "conn.request(\"GET\", \"/api/v1/hotels/searchHotels?dest_id=-2092174&search_type=CITY&adults=1&children_age=0%2C17&room_qty=1&page_number=1&price_max=2936&units=metric&temperature_unit=c&currency_code=INR&location=India\", headers=headers)\n",
    "\n",
    "res = conn.getresponse()\n",
    "data = res.read()\n",
    "\n",
    "print(data.decode(\"utf-8\"))"
   ]
  },
  {
   "cell_type": "code",
   "execution_count": 23,
   "id": "52b200b6",
   "metadata": {},
   "outputs": [
    {
     "name": "stdout",
     "output_type": "stream",
     "text": [
      "{'hotels': [{'hotel_id': 13343223, 'accessibilityLabel': 'FabHotel Mumbai Corporate rooms JB Nagar - Nr Mumbai International Airport.\\n7.7 Good 20 reviews.\\n\\u200eWestern Suburbs\\u202c • \\u200e3.8 km from centre\\u202c.\\nLimited-time Deal.\\n Hotel room : 1\\xa0bed.\\nOriginal price 96 USD. Current price 46 USD..\\nIncludes taxes and charges.\\nOnly 1 left at this price on Booking.com.', 'property': {'propertyClass': 0, 'reviewCount': 20, 'priceBreakdown': {'benefitBadges': [{'explanation': 'Limited-time Deal', 'variant': 'constructive', 'text': 'Limited-time Deal', 'identifier': 'Limited Time Deal'}], 'taxExceptions': [], 'grossPrice': {'currency': 'USD', 'value': 46.1624145777747}, 'strikethroughPrice': {'currency': 'USD', 'value': 96.1716968067157}}, 'id': 13343223, 'qualityClass': 0, 'position': 0, 'photoUrls': ['https://cf.bstatic.com/xdata/images/hotel/square500/642134673.jpg?k=b677424c77ef459f01f56062a0558ecdbf586dd3a493df7947a94b10cbdec108&o=', 'https://cf.bstatic.com/xdata/images/hotel/square1024/642134673.jpg?k=b677424c77ef459f01f56062a0558ecdbf586dd3a493df7947a94b10cbdec108&o=', 'https://cf.bstatic.com/xdata/images/hotel/square2000/642134673.jpg?k=b677424c77ef459f01f56062a0558ecdbf586dd3a493df7947a94b10cbdec108&o='], 'checkinDate': '2025-07-18', 'optOutFromGalleryChanges': 1, 'checkin': {'fromTime': '12:00', 'untilTime': '00:00'}, 'reviewScoreWord': 'Good', 'rankingPosition': 0, 'checkout': {'untilTime': '11:00', 'fromTime': '00:00'}, 'checkoutDate': '2025-07-19', 'accuratePropertyClass': 0, 'mainPhotoId': 642134673, 'ufi': -2092174, 'wishlistName': 'Mumbai', 'reviewScore': 7.7, 'currency': 'INR', 'longitude': 72.8613942, 'latitude': 19.1064396, 'countryCode': 'in', 'name': 'FabHotel Mumbai Corporate rooms JB Nagar - Nr Mumbai International Airport', 'isFirstPage': True, 'blockIds': ['1334322304_410204368_0_0_0_881977']}}, {'hotel_id': 74717, 'accessibilityLabel': 'The Taj Mahal Tower, Mumbai.\\n5 out of 5 stars.\\nThis is a Preferred property.\\n9.2 Superb 5394 reviews.\\n\\u200eColaba\\u202c • \\u200e17.8 km from centre\\u202c.\\n Hotel room : 1\\xa0bed.\\n170 USD.\\nIncludes taxes and charges.', 'property': {'rankingPosition': 1, 'accuratePropertyClass': 5, 'checkoutDate': '2025-07-19', 'checkout': {'fromTime': '00:00', 'untilTime': '12:00'}, 'reviewScore': 9.2, 'wishlistName': 'Mumbai', 'mainPhotoId': 31204963, 'ufi': -2092174, 'currency': 'INR', 'longitude': 72.8332896530628, 'latitude': 18.9215006738599, 'countryCode': 'in', 'name': 'The Taj Mahal Tower, Mumbai', 'blockIds': ['7471705_158036154_1_42_0'], 'isFirstPage': True, 'reviewCount': 5394, 'propertyClass': 5, 'priceBreakdown': {'grossPrice': {'currency': 'USD', 'value': 169.55939684207}, 'benefitBadges': [], 'taxExceptions': []}, 'isPreferred': True, 'id': 74717, 'qualityClass': 0, 'position': 1, 'photoUrls': ['https://cf.bstatic.com/xdata/images/hotel/square500/31204963.jpg?k=90c11832231c37a814e9631123bd28820e8ad8cd983b78ad529ea139791653d1&o=', 'https://cf.bstatic.com/xdata/images/hotel/square1024/31204963.jpg?k=90c11832231c37a814e9631123bd28820e8ad8cd983b78ad529ea139791653d1&o=', 'https://cf.bstatic.com/xdata/images/hotel/square2000/31204963.jpg?k=90c11832231c37a814e9631123bd28820e8ad8cd983b78ad529ea139791653d1&o='], 'checkinDate': '2025-07-18', 'optOutFromGalleryChanges': 0, 'checkin': {'untilTime': '00:00', 'fromTime': '14:00'}, 'reviewScoreWord': 'Superb'}}, {'hotel_id': 78794, 'accessibilityLabel': 'Trident Nariman Point.\\n5 out of 5 stars.\\nThis is a Preferred property.\\n8.9 Fabulous 4537 reviews.\\n\\u200eIn city centre\\u202c\\n\\u200e2.8 km from beach\\u202c.\\n Hotel room : 1\\xa0bed.\\n165 USD.\\nIncludes taxes and charges.', 'property': {'photoUrls': ['https://cf.bstatic.com/xdata/images/hotel/square500/604298804.jpg?k=cce8e6992a6c78904e7a67b9611da9a34ed490aada9e82aa865b70f308200755&o=', 'https://cf.bstatic.com/xdata/images/hotel/square1024/604298804.jpg?k=cce8e6992a6c78904e7a67b9611da9a34ed490aada9e82aa865b70f308200755&o=', 'https://cf.bstatic.com/xdata/images/hotel/square2000/604298804.jpg?k=cce8e6992a6c78904e7a67b9611da9a34ed490aada9e82aa865b70f308200755&o='], 'qualityClass': 0, 'position': 2, 'checkin': {'untilTime': '00:00', 'fromTime': '14:00'}, 'reviewScoreWord': 'Fabulous', 'optOutFromGalleryChanges': 0, 'checkinDate': '2025-07-18', 'priceBreakdown': {'grossPrice': {'value': 164.754069839034, 'currency': 'USD'}, 'benefitBadges': [], 'taxExceptions': []}, 'propertyClass': 5, 'reviewCount': 4537, 'id': 78794, 'isPreferred': True, 'countryCode': 'in', 'latitude': 18.9276509091609, 'longitude': 72.8205800056458, 'isFirstPage': True, 'blockIds': ['7879404_364831139_1_2_0'], 'name': 'Trident Nariman Point', 'checkoutDate': '2025-07-19', 'accuratePropertyClass': 5, 'checkout': {'fromTime': '00:00', 'untilTime': '12:00'}, 'rankingPosition': 2, 'currency': 'INR', 'ufi': -2092174, 'mainPhotoId': 604298804, 'wishlistName': 'Mumbai', 'reviewScore': 8.9}}, {'hotel_id': 13319193, 'accessibilityLabel': 'Asar Elite - Sea View by Orion Hotels.\\n4 out of 5 stars.\\nThis is a Preferred Plus property.\\n7.4 Good 59 reviews.\\n\\u200eJuhu\\u202c • \\u200e6.7 km from centre\\u202c\\n\\u200e50 m from beach\\u202c.\\n Hotel room : 3\\xa0beds.\\nOriginal price 76 USD. Current price 50 USD..\\nIncludes taxes and charges.\\nOnly 1 left at this price on Booking.com.', 'property': {'currency': 'INR', 'wishlistName': 'Mumbai', 'reviewScore': 7.4, 'mainPhotoId': 669203708, 'ufi': -2092174, 'checkout': {'fromTime': '00:00', 'untilTime': '11:00'}, 'checkoutDate': '2025-07-19', 'accuratePropertyClass': 4, 'rankingPosition': 3, 'blockIds': ['1331919306_406095610_2_42_0'], 'isFirstPage': True, 'name': 'Asar Elite - Sea View by Orion Hotels', 'countryCode': 'in', 'longitude': 72.824029441801, 'latitude': 19.1092056444051, 'id': 13319193, 'isPreferred': True, 'priceBreakdown': {'benefitBadges': [], 'taxExceptions': [], 'grossPrice': {'value': 49.544322276291, 'currency': 'USD'}, 'strikethroughPrice': {'currency': 'USD', 'value': 76.2219338471763}}, 'isPreferredPlus': True, 'reviewCount': 59, 'propertyClass': 4, 'reviewScoreWord': 'Good', 'checkin': {'fromTime': '14:00', 'untilTime': '00:00'}, 'checkinDate': '2025-07-18', 'optOutFromGalleryChanges': 0, 'position': 3, 'qualityClass': 0, 'photoUrls': ['https://cf.bstatic.com/xdata/images/hotel/square500/669203708.jpg?k=dbba1513312c1c8066846ff06dd1a78eb7d8d6d8702bd60a7e72f63028084c84&o=', 'https://cf.bstatic.com/xdata/images/hotel/square1024/669203708.jpg?k=dbba1513312c1c8066846ff06dd1a78eb7d8d6d8702bd60a7e72f63028084c84&o=', 'https://cf.bstatic.com/xdata/images/hotel/square2000/669203708.jpg?k=dbba1513312c1c8066846ff06dd1a78eb7d8d6d8702bd60a7e72f63028084c84&o=']}}, {'hotel_id': 2451595, 'accessibilityLabel': 'The Taj Mahal Palace, Mumbai.\\n5 out of 5 stars.\\nThis is a Preferred property.\\n9.1 Superb 2329 reviews.\\n\\u200eColaba\\u202c • \\u200e17.8 km from centre\\u202c.\\n Hotel room : 1\\xa0bed.\\n261 USD.\\nIncludes taxes and charges.', 'property': {'name': 'The Taj Mahal Palace, Mumbai', 'isFirstPage': True, 'blockIds': ['245159510_137748730_1_42_0'], 'latitude': 18.9216373548013, 'longitude': 72.8331752172471, 'countryCode': 'in', 'ufi': -2092174, 'mainPhotoId': 103705059, 'wishlistName': 'Mumbai', 'reviewScore': 9.1, 'currency': 'INR', 'rankingPosition': 4, 'checkoutDate': '2025-07-19', 'checkout': {'fromTime': '00:00', 'untilTime': '12:00'}, 'accuratePropertyClass': 5, 'optOutFromGalleryChanges': 0, 'checkinDate': '2025-07-18', 'reviewScoreWord': 'Superb', 'checkin': {'fromTime': '14:00', 'untilTime': '00:00'}, 'position': 4, 'qualityClass': 0, 'photoUrls': ['https://cf.bstatic.com/xdata/images/hotel/square500/103705059.jpg?k=9e078265b31ad1815a573da8ed2a665f863e3925e1efd730df703421868a2ada&o=', 'https://cf.bstatic.com/xdata/images/hotel/square1024/103705059.jpg?k=9e078265b31ad1815a573da8ed2a665f863e3925e1efd730df703421868a2ada&o=', 'https://cf.bstatic.com/xdata/images/hotel/square2000/103705059.jpg?k=9e078265b31ad1815a573da8ed2a665f863e3925e1efd730df703421868a2ada&o='], 'isPreferred': True, 'id': 2451595, 'propertyClass': 5, 'reviewCount': 2329, 'priceBreakdown': {'taxExceptions': [], 'benefitBadges': [], 'grossPrice': {'value': 260.860609899752, 'currency': 'USD'}}}}, {'hotel_id': 399208, 'accessibilityLabel': 'Trident Bandra Kurla.\\n5 out of 5 stars.\\nThis is a Preferred property.\\n8.9 Fabulous 3544 reviews.\\n\\u200eBandra\\u202c • \\u200e1.5 km from centre\\u202c.\\n Hotel room : 1\\xa0bed.\\n151 USD.\\nIncludes taxes and charges.', 'property': {'position': 5, 'qualityClass': 0, 'photoUrls': ['https://cf.bstatic.com/xdata/images/hotel/square500/33034375.jpg?k=ebad21bc68081acf90d3fc69b50bc8a713a60df7eb219351be8ca0e409473758&o=', 'https://cf.bstatic.com/xdata/images/hotel/square1024/33034375.jpg?k=ebad21bc68081acf90d3fc69b50bc8a713a60df7eb219351be8ca0e409473758&o=', 'https://cf.bstatic.com/xdata/images/hotel/square2000/33034375.jpg?k=ebad21bc68081acf90d3fc69b50bc8a713a60df7eb219351be8ca0e409473758&o='], 'reviewScoreWord': 'Fabulous', 'checkin': {'fromTime': '15:00', 'untilTime': '00:00'}, 'optOutFromGalleryChanges': 0, 'checkinDate': '2025-07-18', 'priceBreakdown': {'grossPrice': {'currency': 'USD', 'value': 151.024564116075}, 'benefitBadges': [], 'taxExceptions': []}, 'propertyClass': 5, 'reviewCount': 3544, 'id': 399208, 'isPreferred': True, 'countryCode': 'in', 'latitude': 19.0666404941471, 'longitude': 72.8675293922424, 'isFirstPage': True, 'blockIds': ['39920822_409221654_1_42_0'], 'name': 'Trident Bandra Kurla', 'checkout': {'untilTime': '12:00', 'fromTime': '00:00'}, 'checkoutDate': '2025-07-19', 'accuratePropertyClass': 5, 'rankingPosition': 5, 'currency': 'INR', 'ufi': -2092174, 'mainPhotoId': 33034375, 'reviewScore': 8.9, 'wishlistName': 'Mumbai'}}, {'hotel_id': 74722, 'accessibilityLabel': 'Taj Lands End.\\n5 out of 5 stars.\\nThis is a Preferred property.\\n8.4 Very good 3003 reviews.\\n\\u200eBandra\\u202c • \\u200e7.1 km from centre\\u202c\\n\\u200e1.9 km from beach\\u202c.\\nBreakfast included.\\n Hotel room : 1\\xa0bed.\\n212 USD.\\nIncludes taxes and charges.', 'property': {'qualityClass': 0, 'position': 6, 'photoUrls': ['https://cf.bstatic.com/xdata/images/hotel/square500/13800549.jpg?k=2239f273986987fa71ef3c94ab6f127feb2b859ab63f057980c074689c62c04c&o=', 'https://cf.bstatic.com/xdata/images/hotel/square1024/13800549.jpg?k=2239f273986987fa71ef3c94ab6f127feb2b859ab63f057980c074689c62c04c&o=', 'https://cf.bstatic.com/xdata/images/hotel/square2000/13800549.jpg?k=2239f273986987fa71ef3c94ab6f127feb2b859ab63f057980c074689c62c04c&o='], 'checkin': {'fromTime': '14:00', 'untilTime': '00:00'}, 'reviewScoreWord': 'Very good', 'checkinDate': '2025-07-18', 'optOutFromGalleryChanges': 0, 'priceBreakdown': {'benefitBadges': [], 'taxExceptions': [], 'grossPrice': {'value': 212.360307163054, 'currency': 'USD'}}, 'propertyClass': 5, 'reviewCount': 3003, 'id': 74722, 'isPreferred': True, 'countryCode': 'in', 'longitude': 72.8190377354622, 'latitude': 19.0437067461031, 'isFirstPage': True, 'blockIds': ['7472202_364461997_1_41_0'], 'name': 'Taj Lands End', 'accuratePropertyClass': 5, 'checkoutDate': '2025-07-19', 'checkout': {'untilTime': '12:00', 'fromTime': '00:00'}, 'rankingPosition': 6, 'currency': 'INR', 'mainPhotoId': 13800549, 'ufi': -2092174, 'wishlistName': 'Mumbai', 'reviewScore': 8.4}}, {'hotel_id': 1453101, 'accessibilityLabel': 'Niranta Transit Hotel Terminal 2 Arrivals/Landside.\\n4 out of 5 stars.\\nThis is a Preferred property.\\n7.6 Good 4916 reviews.\\n\\u200eAndheri\\u202c • \\u200e2.5 km from centre\\u202c.\\nGetaway Deal.\\n Hotel room : 1\\xa0bed.\\nOriginal price 207 USD. Current price 124 USD..\\nIncludes taxes and charges.\\nNo prepayment needed.', 'property': {'optOutFromGalleryChanges': 0, 'checkinDate': '2025-07-18', 'reviewScoreWord': 'Good', 'checkin': {'fromTime': '12:00', 'untilTime': '00:00'}, 'position': 7, 'qualityClass': 0, 'photoUrls': ['https://cf.bstatic.com/xdata/images/hotel/square500/336693267.jpg?k=58e5dfa4e3d86ae8efe46eda7f9d6c78868f2c7d7b861f21239b1f7bd7287120&o=', 'https://cf.bstatic.com/xdata/images/hotel/square1024/336693267.jpg?k=58e5dfa4e3d86ae8efe46eda7f9d6c78868f2c7d7b861f21239b1f7bd7287120&o=', 'https://cf.bstatic.com/xdata/images/hotel/square2000/336693267.jpg?k=58e5dfa4e3d86ae8efe46eda7f9d6c78868f2c7d7b861f21239b1f7bd7287120&o='], 'isPreferred': True, 'id': 1453101, 'reviewCount': 4916, 'propertyClass': 4, 'priceBreakdown': {'grossPrice': {'currency': 'USD', 'value': 124.389323013533}, 'strikethroughPrice': {'value': 207.315537673333, 'currency': 'USD'}, 'benefitBadges': [{'text': 'Getaway Deal', 'identifier': 'Getaway 2021 Deals', 'explanation': 'Getaway Deal', 'variant': 'constructive'}], 'taxExceptions': []}, 'name': 'Niranta Transit Hotel Terminal 2 Arrivals/Landside', 'blockIds': ['145310104_333098894_0_2_0_645466'], 'isFirstPage': True, 'latitude': 19.098558908226, 'longitude': 72.8743100166321, 'countryCode': 'in', 'wishlistName': 'Mumbai', 'reviewScore': 7.6, 'ufi': -2092174, 'mainPhotoId': 336693267, 'currency': 'INR', 'rankingPosition': 7, 'accuratePropertyClass': 4, 'checkoutDate': '2025-07-19', 'checkout': {'untilTime': '12:00', 'fromTime': '00:00'}}}, {'hotel_id': 13634779, 'accessibilityLabel': 'Hilton Garden Inn Mumbai International Airport.\\n4 out of 5 stars.\\nThis is a Preferred property.\\n7.9 Good 33 reviews.\\n\\u200eWestern Suburbs\\u202c • \\u200e3.5 km from centre\\u202c.\\n Hotel room : 1\\xa0bed.\\n91 USD.\\nIncludes taxes and charges.\\nFree cancellation.\\nNo prepayment needed.', 'property': {'accuratePropertyClass': 4, 'checkoutDate': '2025-07-19', 'checkout': {'untilTime': '12:00', 'fromTime': '00:00'}, 'rankingPosition': 8, 'currency': 'INR', 'reviewScore': 7.9, 'wishlistName': 'Mumbai', 'mainPhotoId': 657174125, 'ufi': -2092174, 'countryCode': 'in', 'latitude': 19.103757, 'longitude': 72.862505, 'blockIds': ['1363477901_408684005_2_0_0_961397'], 'isFirstPage': True, 'name': 'Hilton Garden Inn Mumbai International Airport', 'priceBreakdown': {'taxExceptions': [], 'benefitBadges': [], 'grossPrice': {'value': 91.2067354420294, 'currency': 'USD'}}, 'reviewCount': 33, 'propertyClass': 4, 'id': 13634779, 'isPreferred': True, 'photoUrls': ['https://cf.bstatic.com/xdata/images/hotel/square500/657174125.jpg?k=c2390d048c0160b28493ec16c25dd085e10909ea1e0b9dff225936249b5b58a6&o=', 'https://cf.bstatic.com/xdata/images/hotel/square1024/657174125.jpg?k=c2390d048c0160b28493ec16c25dd085e10909ea1e0b9dff225936249b5b58a6&o=', 'https://cf.bstatic.com/xdata/images/hotel/square2000/657174125.jpg?k=c2390d048c0160b28493ec16c25dd085e10909ea1e0b9dff225936249b5b58a6&o='], 'qualityClass': 0, 'position': 8, 'checkin': {'fromTime': '15:00', 'untilTime': '00:00'}, 'reviewScoreWord': 'Good', 'optOutFromGalleryChanges': 0, 'checkinDate': '2025-07-18'}}, {'hotel_id': 283624, 'accessibilityLabel': 'Hilton Mumbai International Airport Hotel.\\n5 out of 5 stars.\\nThis is a Preferred property.\\n8.7 Fabulous 1896 reviews.\\n\\u200eWestern Suburbs\\u202c • \\u200e3.2 km from centre\\u202c.\\n Hotel room : 1\\xa0bed.\\n124 USD.\\nIncludes taxes and charges.\\nNo prepayment needed.', 'property': {'priceBreakdown': {'grossPrice': {'currency': 'USD', 'value': 123.565552670155}, 'taxExceptions': [], 'benefitBadges': []}, 'reviewCount': 1896, 'propertyClass': 5, 'id': 283624, 'isPreferred': True, 'qualityClass': 0, 'position': 9, 'photoUrls': ['https://cf.bstatic.com/xdata/images/hotel/square500/483825117.jpg?k=3e9ad1b06f2d88d6794eb7662223650800963fe496eafdcb0f84ee8f6b516182&o=', 'https://cf.bstatic.com/xdata/images/hotel/square1024/483825117.jpg?k=3e9ad1b06f2d88d6794eb7662223650800963fe496eafdcb0f84ee8f6b516182&o=', 'https://cf.bstatic.com/xdata/images/hotel/square2000/483825117.jpg?k=3e9ad1b06f2d88d6794eb7662223650800963fe496eafdcb0f84ee8f6b516182&o='], 'checkin': {'untilTime': '00:00', 'fromTime': '15:00'}, 'reviewScoreWord': 'Fabulous', 'optOutFromGalleryChanges': 0, 'checkinDate': '2025-07-18', 'accuratePropertyClass': 5, 'checkout': {'untilTime': '12:00', 'fromTime': '00:00'}, 'checkoutDate': '2025-07-19', 'rankingPosition': 9, 'currency': 'INR', 'reviewScore': 8.7, 'wishlistName': 'Mumbai', 'mainPhotoId': 483825117, 'ufi': -2092174, 'countryCode': 'in', 'latitude': 19.1041906326191, 'longitude': 72.8709116578102, 'blockIds': ['28362401_379643280_2_42_0'], 'isFirstPage': True, 'name': 'Hilton Mumbai International Airport Hotel'}}, {'hotel_id': 1548237, 'accessibilityLabel': 'Taj Santacruz.\\n5 out of 5 stars.\\nThis is a Preferred property.\\n8.9 Fabulous 2383 reviews.\\n\\u200e3.1 km from centre\\u202c.\\n Hotel room : 1\\xa0bed.\\n130 USD.\\nIncludes taxes and charges.', 'property': {'name': 'Taj Santacruz', 'isFirstPage': True, 'blockIds': ['154823717_406992302_1_34_0'], 'longitude': 72.853407561779, 'latitude': 19.0921868701275, 'countryCode': 'in', 'mainPhotoId': 125011716, 'ufi': -2092174, 'wishlistName': 'Mumbai', 'reviewScore': 8.9, 'currency': 'INR', 'rankingPosition': 10, 'checkoutDate': '2025-07-19', 'accuratePropertyClass': 5, 'checkout': {'fromTime': '00:00', 'untilTime': '12:00'}, 'checkinDate': '2025-07-18', 'optOutFromGalleryChanges': 1, 'reviewScoreWord': 'Fabulous', 'checkin': {'untilTime': '00:00', 'fromTime': '14:00'}, 'qualityClass': 0, 'position': 10, 'photoUrls': ['https://cf.bstatic.com/xdata/images/hotel/square500/125011716.jpg?k=a11b2cf7938b3214652ec26dbe0a51850850e41270bf9a43e986e3d3de848748&o=', 'https://cf.bstatic.com/xdata/images/hotel/square1024/125011716.jpg?k=a11b2cf7938b3214652ec26dbe0a51850850e41270bf9a43e986e3d3de848748&o=', 'https://cf.bstatic.com/xdata/images/hotel/square2000/125011716.jpg?k=a11b2cf7938b3214652ec26dbe0a51850850e41270bf9a43e986e3d3de848748&o='], 'isPreferred': True, 'id': 1548237, 'propertyClass': 5, 'reviewCount': 2383, 'priceBreakdown': {'grossPrice': {'currency': 'USD', 'value': 130.430305531635}, 'benefitBadges': [], 'taxExceptions': []}}}, {'hotel_id': 249951, 'accessibilityLabel': 'The Leela Mumbai.\\n5 out of 5 stars.\\nThis is a Preferred property.\\n9.0 Superb 3740 reviews.\\n\\u200eWestern Suburbs\\u202c • \\u200e3.7 km from centre\\u202c.\\n Hotel room : 1\\xa0bed.\\n136 USD.\\nIncludes taxes and charges.', 'property': {'id': 249951, 'isPreferred': True, 'priceBreakdown': {'grossPrice': {'value': 135.922107820819, 'currency': 'USD'}, 'taxExceptions': [], 'benefitBadges': []}, 'reviewCount': 3740, 'propertyClass': 5, 'reviewScoreWord': 'Superb', 'checkin': {'fromTime': '14:00', 'untilTime': '00:00'}, 'checkinDate': '2025-07-18', 'optOutFromGalleryChanges': 0, 'qualityClass': 0, 'photoUrls': ['https://cf.bstatic.com/xdata/images/hotel/square500/47218682.jpg?k=57487efa48599f844940e0af3543cde0e52730156ad386cd2c5362227fc99502&o=', 'https://cf.bstatic.com/xdata/images/hotel/square1024/47218682.jpg?k=57487efa48599f844940e0af3543cde0e52730156ad386cd2c5362227fc99502&o=', 'https://cf.bstatic.com/xdata/images/hotel/square2000/47218682.jpg?k=57487efa48599f844940e0af3543cde0e52730156ad386cd2c5362227fc99502&o='], 'position': 11, 'currency': 'INR', 'reviewScore': 9, 'wishlistName': 'Mumbai', 'ufi': -2092174, 'mainPhotoId': 47218682, 'accuratePropertyClass': 5, 'checkoutDate': '2025-07-19', 'checkout': {'fromTime': '00:00', 'untilTime': '12:00'}, 'rankingPosition': 11, 'blockIds': ['24995130_416097024_1_42_0'], 'isFirstPage': True, 'name': 'The Leela Mumbai', 'countryCode': 'in', 'longitude': 72.8741490840912, 'latitude': 19.1091784264362}}, {'hotel_id': 420487, 'accessibilityLabel': 'The Resort.\\n4 out of 5 stars.\\nThis is a Preferred property.\\n7.9 Good 950 reviews.\\n\\u200eWestern Suburbs\\u202c • \\u200e13.8 km from centre\\u202c\\n\\u200eBeachfront\\u202c.\\nBreakfast included.\\n Hotel room : 1\\xa0bed.\\nOriginal price 124 USD. Current price 114 USD..\\nIncludes taxes and charges.', 'property': {'currency': 'INR', 'reviewScore': 7.9, 'wishlistName': 'Mumbai', 'mainPhotoId': 550249154, 'ufi': -2092174, 'checkout': {'fromTime': '00:00', 'untilTime': '11:00'}, 'checkoutDate': '2025-07-19', 'accuratePropertyClass': 4, 'rankingPosition': 12, 'blockIds': ['42048701_88881758_1_41_0_830697'], 'isFirstPage': True, 'name': 'The Resort', 'countryCode': 'in', 'latitude': 19.1733980241533, 'longitude': 72.7960512042046, 'id': 420487, 'isPreferred': True, 'priceBreakdown': {'grossPrice': {'currency': 'USD', 'value': 113.667677404359}, 'strikethroughPrice': {'value': 123.551822749823, 'currency': 'USD'}, 'benefitBadges': [], 'taxExceptions': []}, 'reviewCount': 950, 'propertyClass': 4, 'checkin': {'untilTime': '00:00', 'fromTime': '14:00'}, 'reviewScoreWord': 'Good', 'optOutFromGalleryChanges': 0, 'checkinDate': '2025-07-18', 'photoUrls': ['https://cf.bstatic.com/xdata/images/hotel/square500/550249154.jpg?k=2d296f157c541e17ef5c3768c17e99005b72384640971cc6adb118d1402d0963&o=', 'https://cf.bstatic.com/xdata/images/hotel/square1024/550249154.jpg?k=2d296f157c541e17ef5c3768c17e99005b72384640971cc6adb118d1402d0963&o=', 'https://cf.bstatic.com/xdata/images/hotel/square2000/550249154.jpg?k=2d296f157c541e17ef5c3768c17e99005b72384640971cc6adb118d1402d0963&o='], 'qualityClass': 0, 'position': 12}}, {'hotel_id': 293440, 'accessibilityLabel': 'Four Seasons Hotel Mumbai.\\n5 out of 5 stars.\\nThis is a Preferred property.\\n8.7 Fabulous 768 reviews.\\n\\u200eWorli\\u202c • \\u200e10.9 km from centre\\u202c.\\n Hotel room : 1\\xa0bed.\\n185 USD.\\nIncludes taxes and charges.', 'property': {'qualityClass': 0, 'position': 13, 'photoUrls': ['https://cf.bstatic.com/xdata/images/hotel/square500/472036509.jpg?k=ca519c1b538fb5a354795ca88348ad866bccca2859a8abec4e8560d167b0b235&o=', 'https://cf.bstatic.com/xdata/images/hotel/square1024/472036509.jpg?k=ca519c1b538fb5a354795ca88348ad866bccca2859a8abec4e8560d167b0b235&o=', 'https://cf.bstatic.com/xdata/images/hotel/square2000/472036509.jpg?k=ca519c1b538fb5a354795ca88348ad866bccca2859a8abec4e8560d167b0b235&o='], 'checkinDate': '2025-07-18', 'optOutFromGalleryChanges': 0, 'reviewScoreWord': 'Fabulous', 'checkin': {'untilTime': '00:00', 'fromTime': '15:00'}, 'reviewCount': 768, 'propertyClass': 5, 'priceBreakdown': {'taxExceptions': [], 'benefitBadges': [], 'grossPrice': {'value': 185.348328423474, 'currency': 'USD'}}, 'isPreferred': True, 'id': 293440, 'longitude': 72.8201830387115, 'latitude': 18.9939393054408, 'countryCode': 'in', 'name': 'Four Seasons Hotel Mumbai', 'blockIds': ['29344001_407884527_2_42_0'], 'isFirstPage': True, 'rankingPosition': 13, 'checkoutDate': '2025-07-19', 'accuratePropertyClass': 5, 'checkout': {'untilTime': '12:00', 'fromTime': '00:00'}, 'reviewScore': 8.7, 'wishlistName': 'Mumbai', 'ufi': -2092174, 'mainPhotoId': 472036509, 'currency': 'INR'}}, {'hotel_id': 12905622, 'accessibilityLabel': 'Fostel- The Fort Hostel.\\n7.6 Good 133 reviews.\\n\\u200eIn city centre\\u202c\\n\\u200e2.9 km from beach\\u202c.\\n Bed in dormitory : 1\\xa0bed.\\n6 USD.\\nIncludes taxes and charges.\\nNo prepayment needed.', 'property': {'isFirstPage': True, 'blockIds': ['1290562201_402009251_1_0_0'], 'name': 'Fostel- The Fort Hostel', 'countryCode': 'in', 'latitude': 18.9354606691777, 'longitude': 72.8348450245369, 'currency': 'INR', 'mainPhotoId': 602898692, 'ufi': -2092174, 'reviewScore': 7.6, 'wishlistName': 'Mumbai', 'checkoutDate': '2025-07-19', 'accuratePropertyClass': 0, 'checkout': {'untilTime': '11:00', 'fromTime': '10:00'}, 'rankingPosition': 14, 'checkin': {'fromTime': '14:00', 'untilTime': '20:00'}, 'reviewScoreWord': 'Good', 'optOutFromGalleryChanges': 0, 'checkinDate': '2025-07-18', 'photoUrls': ['https://cf.bstatic.com/xdata/images/hotel/square500/602898692.jpg?k=6884a4b9b3ca06606c8a65c5ec021955c3cb2e34d28587010857fe0747c06a92&o=', 'https://cf.bstatic.com/xdata/images/hotel/square1024/602898692.jpg?k=6884a4b9b3ca06606c8a65c5ec021955c3cb2e34d28587010857fe0747c06a92&o=', 'https://cf.bstatic.com/xdata/images/hotel/square2000/602898692.jpg?k=6884a4b9b3ca06606c8a65c5ec021955c3cb2e34d28587010857fe0747c06a92&o='], 'qualityClass': 0, 'position': 14, 'id': 12905622, 'priceBreakdown': {'grossPrice': {'value': 5.8641278681117, 'currency': 'USD'}, 'benefitBadges': [], 'taxExceptions': []}, 'propertyClass': 0, 'reviewCount': 133}}, {'hotel_id': 294086, 'accessibilityLabel': 'Sofitel Mumbai BKC.\\n5 out of 5 stars.\\nThis is a Preferred property.\\n8.4 Very good 1645 reviews.\\n\\u200eBandra\\u202c • \\u200e1.3 km from centre\\u202c.\\n Hotel room : 1\\xa0bed.\\n151 USD.\\nIncludes taxes and charges.', 'property': {'qualityClass': 0, 'photoUrls': ['https://cf.bstatic.com/xdata/images/hotel/square500/555554492.jpg?k=17d6e6b77fed1e311da2beba76b645336fdf47a010775ad0c594fca0f41fed2e&o=', 'https://cf.bstatic.com/xdata/images/hotel/square1024/555554492.jpg?k=17d6e6b77fed1e311da2beba76b645336fdf47a010775ad0c594fca0f41fed2e&o=', 'https://cf.bstatic.com/xdata/images/hotel/square2000/555554492.jpg?k=17d6e6b77fed1e311da2beba76b645336fdf47a010775ad0c594fca0f41fed2e&o='], 'position': 15, 'optOutFromGalleryChanges': 0, 'checkinDate': '2025-07-18', 'checkin': {'fromTime': '15:00', 'untilTime': '00:00'}, 'reviewScoreWord': 'Very good', 'propertyClass': 5, 'reviewCount': 1645, 'priceBreakdown': {'benefitBadges': [], 'taxExceptions': [], 'grossPrice': {'value': 151.024564116075, 'currency': 'USD'}}, 'isPreferred': True, 'id': 294086, 'latitude': 19.0675024126694, 'longitude': 72.869256734848, 'countryCode': 'in', 'name': 'Sofitel Mumbai BKC', 'isFirstPage': True, 'blockIds': ['29408601_392465005_2_42_0'], 'rankingPosition': 15, 'checkoutDate': '2025-07-19', 'checkout': {'untilTime': '12:00', 'fromTime': '00:00'}, 'accuratePropertyClass': 5, 'mainPhotoId': 555554492, 'ufi': -2092174, 'wishlistName': 'Mumbai', 'reviewScore': 8.4, 'currency': 'INR'}}, {'hotel_id': 8778629, 'accessibilityLabel': 'Hotel Ariana Residency.\\n4 out of 5 stars.\\nThis is a Preferred Plus property.\\n7.2 Good 671 reviews.\\n\\u200eWestern Suburbs\\u202c • \\u200e7.4 km from centre\\u202c\\n\\u200e1.5 km from beach\\u202c.\\n Hotel room : 1\\xa0bed.\\n34 USD.\\nIncludes taxes and charges.', 'property': {'name': 'Hotel Ariana Residency', 'blockIds': ['877862902_386352140_1_2_0'], 'isFirstPage': True, 'latitude': 19.1275934612682, 'longitude': 72.8326159372177, 'countryCode': 'in', 'wishlistName': 'Mumbai', 'reviewScore': 7.2, 'mainPhotoId': 392019082, 'ufi': -2092174, 'currency': 'INR', 'rankingPosition': 16, 'checkoutDate': '2025-07-19', 'accuratePropertyClass': 4, 'checkout': {'untilTime': '11:00', 'fromTime': '00:00'}, 'optOutFromGalleryChanges': 0, 'checkinDate': '2025-07-18', 'reviewScoreWord': 'Good', 'checkin': {'fromTime': '12:00', 'untilTime': '00:00'}, 'qualityClass': 0, 'photoUrls': ['https://cf.bstatic.com/xdata/images/hotel/square500/392019082.jpg?k=d825a25be93ddb1a2bc16e0fdb573ec8bcb9ed69e286890b207ca558748dca32&o=', 'https://cf.bstatic.com/xdata/images/hotel/square1024/392019082.jpg?k=d825a25be93ddb1a2bc16e0fdb573ec8bcb9ed69e286890b207ca558748dca32&o=', 'https://cf.bstatic.com/xdata/images/hotel/square2000/392019082.jpg?k=d825a25be93ddb1a2bc16e0fdb573ec8bcb9ed69e286890b207ca558748dca32&o='], 'position': 16, 'isPreferred': True, 'id': 8778629, 'reviewCount': 671, 'propertyClass': 4, 'priceBreakdown': {'benefitBadges': [], 'taxExceptions': [], 'grossPrice': {'value': 34.1976390175376, 'currency': 'USD'}}, 'isPreferredPlus': True}}, {'hotel_id': 244538, 'accessibilityLabel': 'Hotel Bawa Continental.\\n3 out of 5 stars.\\nThis is a Preferred property.\\n7.9 Good 780 reviews.\\n\\u200eJuhu\\u202c • \\u200e5.9 km from centre\\u202c\\n\\u200e200 m from beach\\u202c.\\n Hotel room : Beds: 1 double or 2 singles.\\n72 USD.\\nIncludes taxes and charges.\\nFree cancellation.\\nOnly 1 left at this price on Booking.com.', 'property': {'accuratePropertyClass': 3, 'checkoutDate': '2025-07-19', 'checkout': {'fromTime': '00:00', 'untilTime': '12:00'}, 'rankingPosition': 17, 'currency': 'INR', 'mainPhotoId': 189285663, 'ufi': -2092174, 'reviewScore': 7.9, 'wishlistName': 'Mumbai', 'countryCode': 'in', 'latitude': 19.1005713466047, 'longitude': 72.8274813294411, 'isFirstPage': True, 'blockIds': ['24453801_415499940_2_2_0_776749'], 'name': 'Hotel Bawa Continental', 'priceBreakdown': {'grossPrice': {'currency': 'USD', 'value': 71.6726739435865}, 'benefitBadges': [], 'taxExceptions': []}, 'propertyClass': 3, 'reviewCount': 780, 'id': 244538, 'isPreferred': True, 'photoUrls': ['https://cf.bstatic.com/xdata/images/hotel/square500/189285663.jpg?k=15330f682a23ad9108f47c8d9fd7aacf7be7d034a8bd9ea55f3a19ff7b6f55dd&o=', 'https://cf.bstatic.com/xdata/images/hotel/square1024/189285663.jpg?k=15330f682a23ad9108f47c8d9fd7aacf7be7d034a8bd9ea55f3a19ff7b6f55dd&o=', 'https://cf.bstatic.com/xdata/images/hotel/square2000/189285663.jpg?k=15330f682a23ad9108f47c8d9fd7aacf7be7d034a8bd9ea55f3a19ff7b6f55dd&o='], 'qualityClass': 0, 'position': 17, 'reviewScoreWord': 'Good', 'checkin': {'fromTime': '14:00', 'untilTime': '00:00'}, 'optOutFromGalleryChanges': 0, 'checkinDate': '2025-07-18'}}, {'hotel_id': 390419, 'accessibilityLabel': 'Grand Hyatt Mumbai Hotel and Residences.\\n5 out of 5 stars.\\nThis is a Preferred property.\\n8.1 Very good 1711 reviews.\\n\\u200eSantacruz\\u202c • \\u200e2.8 km from centre\\u202c\\n\\u200e2.8 km from beach\\u202c.\\n Hotel room : 2\\xa0beds.\\n134 USD.\\nIncludes taxes and charges.', 'property': {'optOutFromGalleryChanges': 0, 'checkinDate': '2025-07-18', 'checkin': {'fromTime': '15:00', 'untilTime': '00:00'}, 'reviewScoreWord': 'Very good', 'qualityClass': 0, 'photoUrls': ['https://cf.bstatic.com/xdata/images/hotel/square500/644218581.jpg?k=02fca3685edae69679b01689fba85efcf23cdcb45986cca47101a088729172e8&o=', 'https://cf.bstatic.com/xdata/images/hotel/square1024/644218581.jpg?k=02fca3685edae69679b01689fba85efcf23cdcb45986cca47101a088729172e8&o=', 'https://cf.bstatic.com/xdata/images/hotel/square2000/644218581.jpg?k=02fca3685edae69679b01689fba85efcf23cdcb45986cca47101a088729172e8&o='], 'position': 18, 'isPreferred': True, 'id': 390419, 'propertyClass': 5, 'reviewCount': 1711, 'priceBreakdown': {'grossPrice': {'currency': 'USD', 'value': 134.205918441931}, 'benefitBadges': [], 'taxExceptions': []}, 'name': 'Grand Hyatt Mumbai Hotel and Residences', 'isFirstPage': True, 'blockIds': ['39041918_330503985_2_42_0'], 'latitude': 19.0767956376696, 'longitude': 72.851240336895, 'countryCode': 'in', 'ufi': -2092174, 'mainPhotoId': 644218581, 'reviewScore': 8.1, 'wishlistName': 'Mumbai', 'currency': 'INR', 'rankingPosition': 18, 'checkout': {'fromTime': '00:00', 'untilTime': '12:00'}, 'checkoutDate': '2025-07-19', 'accuratePropertyClass': 5}}, {'hotel_id': 9360612, 'accessibilityLabel': 'Novotel Mumbai International Airport.\\n5 out of 5 stars.\\nThis is a Preferred property.\\n8.5 Very good 2014 reviews.\\n\\u200eWestern Suburbs\\u202c • \\u200e3.3 km from centre\\u202c.\\n Hotel room : 1\\xa0bed.\\n117 USD.\\nIncludes taxes and charges.', 'property': {'latitude': 19.1054912667497, 'longitude': 72.8756949669342, 'countryCode': 'in', 'name': 'Novotel Mumbai International Airport', 'isFirstPage': True, 'blockIds': ['936061201_394961741_2_42_0'], 'rankingPosition': 19, 'checkoutDate': '2025-07-19', 'checkout': {'untilTime': '12:00', 'fromTime': '00:00'}, 'accuratePropertyClass': 5, 'mainPhotoId': 520102818, 'ufi': -2092174, 'reviewScore': 8.5, 'wishlistName': 'Mumbai', 'currency': 'INR', 'qualityClass': 0, 'photoUrls': ['https://cf.bstatic.com/xdata/images/hotel/square500/520102818.jpg?k=bdbc0aacaf999cc4cda474366fa4ba04504acdaa4b8f7c31560674abd0bcf029&o=', 'https://cf.bstatic.com/xdata/images/hotel/square1024/520102818.jpg?k=bdbc0aacaf999cc4cda474366fa4ba04504acdaa4b8f7c31560674abd0bcf029&o=', 'https://cf.bstatic.com/xdata/images/hotel/square2000/520102818.jpg?k=bdbc0aacaf999cc4cda474366fa4ba04504acdaa4b8f7c31560674abd0bcf029&o='], 'position': 19, 'optOutFromGalleryChanges': 0, 'checkinDate': '2025-07-18', 'reviewScoreWord': 'Very good', 'checkin': {'untilTime': '00:00', 'fromTime': '15:00'}, 'propertyClass': 5, 'reviewCount': 2014, 'priceBreakdown': {'benefitBadges': [], 'taxExceptions': [], 'grossPrice': {'currency': 'USD', 'value': 116.687070302952}}, 'isPreferred': True, 'id': 9360612}}], 'meta': [{'title': '1143 properties'}], 'appear': [{'component': {'props': {'content': {'props': {'items': [{'props': {'component': {'props': {'spacing': 'spacing_half', 'items': [{'props': {'text': [{'text': \"Commission paid and other benefits may affect an accommodation's ranking.\", 'font': 'body_2'}, {'color': 'foreground', 'text': '  ', 'font': 'strong_2'}, {'linkActions': [{'props': {'url': 'booking://webview?url=https%3A%2F%2Fm.booking.com%2Fgeneral.en.html%3Faid%3D332731%3Btmpl%3Ddocs%2Fterms-and-conditions'}}], 'font': 'body_2', 'color': 'action_foreground', 'text': 'Find out more'}]}}]}}}}, {'props': {}}, {'props': {'component': {'props': {'icon': 'close', 'variant': 'tertiary_tinted', 'accessibilityLabel': 'Close', 'tertiaryTintedColor': 'foreground'}}}}], 'fitContentWidth': True}}, 'fill': True}}, 'id': 'cma'}, {'contentUrl': 'https://mobile-apps.booking.com/json/mobile.saba?route_path=saba-chat-entrypoint&add_bh_info=1&add_genius_percentage_value=1&add_ribbon_text=1&affiliate_id=332731&arrival_date=2025-07-18&autoextend=1&booked_x_times_for_dates=1&booked_x_times_threshold=1&categories_filter_additional_data=&change_popularity_sort_option_copy_tag=1&change_sort_options_copy_tags=1&check_excluded_charge_or_tax=1&check_flexible_dates=1&check_is_candidate_wholesaler=1&currency_code=USD&dark_mode=1&deeplink_sec_since_click=168567.9046729803&departure_date=2025-07-19&dest_ids=-2092174&device_id=57d11ec8bad14e119e4c15a86202c23f&distance_unit=metric&dl_sr_adoption=1&dotd=2&exposure_api_version=2.17&fix_dotd=1&flex_window=0&generate_map_bounding_box=1&get_cny_campaign_banner=1&get_skiing_info=1&guest_qty=1&include_amazon_banner=1&include_apartment_config=1&include_badges_in_price_breakdown=1&include_beach_information=1&include_bh_quality_classification=1&include_block_ids=1&include_bsb_info=1&include_bwallet_hotel_eligibility=1&include_composite_breakdown=1&include_cpc_non_trader_copy=1&include_excluded_charges_detail=1&include_free_cancellation=1&include_genius_badge=1&include_last_reservation=1&include_nr_bookings_best_range_message=1&include_nr_bookings_today=1&include_offered_bed_types=1&include_preview_cards=1&include_rack_rate_savings=1&include_rtb=1&include_ski_information=1&languagecode=en&location_source=recents&mark_first_highlighted_hotel=1&min_saba_version=31&network_type=wifi&new_segments_carousel=1&offset=0&optimized_call=1&outcome=search_results&page_define_enabled=1&pref_match=0&reason=change_sort_options&remove_wishlist_padding=1&room_qty=1&rows=auto&saba=1&saba_payload_root=1&saba_version=50&sb_calendar_open=1&search_type=city&send_ranking_version=1&send_search_id=1&show_beach_filter_badge=1&show_city_distance=1&show_distance_to_beach=1&show_distance_to_nearest_public_transport=1&show_genius_free_breakfast=0&show_if_mobile_deal=1&show_negotiated_rates=1&show_no_prepayment=1&show_policy=1&show_review_score_breakdowns=1&show_selected_filter_values=1&show_soldout=1&sort_by=auto&sort_by_source=sort_options&sort_genius_new_copy=1&source=search_results&temperature_unit=c&travel_purpose=&unfiltered_count_enabled=1&units=metric&use_dest_based_list_creation=1&use_direct_payment=1&user_os=15.5&user_version=36.8-iphone&categories_filter=price%3A%3AUSD-min-max&page=search-results'}, {'id': 'signin_now', 'component': {'props': {'text': 'Get instant access to our Genius loyalty programme and enjoy discounts at properties worldwide.', 'title': 'Sign in and save money'}}}]}\n"
     ]
    }
   ],
   "source": [
    "import requests\n",
    "\n",
    "url = \"https://booking-com15.p.rapidapi.com/api/v1/hotels/searchHotels\"\n",
    "\n",
    "querystring = {\"dest_id\":\"-2092174\",\"search_type\":\"CITY\",\"arrival_date\":\"2025-07-18\",\"departure_date\":\"2025-07-19\"}\n",
    "\n",
    "headers = {\n",
    "\t\"x-rapidapi-key\": \"e18f0f79a1mshfa280ca5111a252p1ea784jsnd0d436235bfd\",\n",
    "\t\"x-rapidapi-host\": \"booking-com15.p.rapidapi.com\"\n",
    "}\n",
    "\n",
    "response = requests.get(url, headers=headers, params=querystring)\n",
    "\n",
    "print(response.json()['data'])"
   ]
  },
  {
   "cell_type": "code",
   "execution_count": 1,
   "id": "39959562",
   "metadata": {},
   "outputs": [
    {
     "name": "stdout",
     "output_type": "stream",
     "text": [
      "{'status': True, 'message': 'Success', 'timestamp': 1752775258648, 'data': [{'dest_id': '-2113255', 'search_type': 'city', 'latitude': 8.72953, 'longitude': 77.68524, 'region': 'Tamil Nadu', 'city_name': 'Tirunelveli', 'type': 'ci', 'name': 'Tirunelveli', 'city_ufi': None, 'dest_type': 'city', 'nr_hotels': 45, 'roundtrip': 'GhA0ZWQxN2VhZDNkODkwZGZhIAAoATICZW46C3RpcnVuZWx2ZWxpQABKAFAA', 'country': 'India', 'lc': 'en', 'label': 'Tirunelveli, Tamil Nadu, India', 'hotels': 45, 'cc1': 'in'}, {'dest_id': '-2237502', 'search_type': 'city', 'type': 'ci', 'name': 'Tirunelveli East', 'city_ufi': None, 'dest_type': 'city', 'region': 'Jaffna District', 'city_name': 'Tirunelveli East', 'longitude': 80.0333, 'latitude': 9.68333, 'hotels': 5, 'cc1': 'lk', 'label': 'Tirunelveli East, Jaffna District, Sri Lanka', 'lc': 'en', 'country': 'Sri Lanka', 'nr_hotels': 5, 'roundtrip': 'GhA0ZWQxN2VhZDNkODkwZGZhIAEoATICZW46C3RpcnVuZWx2ZWxpQABKAFAA'}, {'dest_id': '9130704', 'search_type': 'hotel', 'nr_hotels': 1, 'roundtrip': 'GhA0ZWQxN2VhZDNkODkwZGZhIAIoATICZW46C3RpcnVuZWx2ZWxpQABKAFAA', 'country': 'India', 'lc': 'en', 'label': 'Tirunelveli Home Stay, Tirunelveli, Tamil Nadu, India', 'cc1': 'in', 'hotels': 1, 'latitude': 8.719063, 'longitude': 77.76074, 'image_url': 'https://cf.bstatic.com/xdata/images/hotel/150x150/404228423.jpg?k=388c4d99c59b15fa61c126400b756c81d2934012ea29086253b3f49ac4a72010&o=', 'city_name': 'Tirunelveli', 'region': 'Tamil Nadu', 'city_ufi': -2113255, 'dest_type': 'hotel', 'name': 'Tirunelveli Home Stay', 'type': 'ho'}, {'dest_id': '11644699', 'search_type': 'hotel', 'label': 'Tirunelveli Holiday Home, Tirunelveli, Tamil Nadu, India', 'hotels': 1, 'cc1': 'in', 'roundtrip': 'GhA0ZWQxN2VhZDNkODkwZGZhIAMoATICZW46C3RpcnVuZWx2ZWxpQABKAFAA', 'nr_hotels': 1, 'country': 'India', 'lc': 'en', 'city_name': 'Tirunelveli', 'region': 'Tamil Nadu', 'name': 'Tirunelveli Holiday Home', 'city_ufi': -2113255, 'dest_type': 'hotel', 'type': 'ho', 'latitude': 8.7241, 'longitude': 77.76728, 'image_url': 'https://cf.bstatic.com/xdata/images/hotel/150x150/533187598.jpg?k=98108b16c992cab8f9cd7fdac391b91e3f81fc2fbfc73bbf31899f621b85a4c8&o='}, {'dest_id': '12393298', 'search_type': 'hotel', 'type': 'ho', 'dest_type': 'hotel', 'city_ufi': -2113255, 'name': 'RR Inn Tirunelveli', 'region': 'Tamil Nadu', 'city_name': 'Tirunelveli', 'image_url': 'https://cf.bstatic.com/xdata/images/hotel/150x150/576481393.jpg?k=0ddeb970b3908e98c868a47aa2b4db48137203ea16adfb3fb522d9cf520ef8ce&o=', 'longitude': 77.71146, 'latitude': 8.735342, 'cc1': 'in', 'hotels': 1, 'label': 'RR Inn Tirunelveli, Tirunelveli, Tamil Nadu, India', 'country': 'India', 'lc': 'en', 'roundtrip': 'GhA0ZWQxN2VhZDNkODkwZGZhIAQoATICZW46C3RpcnVuZWx2ZWxpQABKAFAA', 'nr_hotels': 1}]}\n",
      "-2113255\n",
      "{'status': True, 'message': 'Success', 'timestamp': 1752775260482, 'data': {'hotels': [{'hotel_id': 2841689, 'accessibilityLabel': 'Regency Tirunelveli By GRT Hotels.\\n3 out of 5 stars.\\nThis is a Preferred property.\\n8.4 Very good 294 reviews.\\n\\u200e3.9 km from centre\\u202c.\\nBreakfast included.\\n Hotel room : 1\\xa0bed.\\n60 USD.\\nIncludes taxes and charges.', 'property': {'priceBreakdown': {'grossPrice': {'currency': 'USD', 'value': 59.6884443718504}, 'taxExceptions': [], 'benefitBadges': []}, 'mainPhotoId': 187407425, 'countryCode': 'in', 'propertyClass': 3, 'reviewCount': 294, 'longitude': 77.7208313, 'blockIds': ['284168908_366363947_1_41_0'], 'qualityClass': 0, 'id': 2841689, 'isPreferred': True, 'checkinDate': '2025-07-18', 'ufi': -2113255, 'currency': 'INR', 'optOutFromGalleryChanges': 0, 'isFirstPage': True, 'reviewScore': 8.4, 'checkin': {'fromTime': '12:00', 'untilTime': '00:00'}, 'checkoutDate': '2025-07-19', 'wishlistName': 'Tirunelveli', 'position': 0, 'photoUrls': ['https://cf.bstatic.com/xdata/images/hotel/square500/187407425.jpg?k=388cb56cb660a15dfcf26f7cd2d85c2f5d296331301dafada4e13cab1685276d&o=', 'https://cf.bstatic.com/xdata/images/hotel/square1024/187407425.jpg?k=388cb56cb660a15dfcf26f7cd2d85c2f5d296331301dafada4e13cab1685276d&o=', 'https://cf.bstatic.com/xdata/images/hotel/square2000/187407425.jpg?k=388cb56cb660a15dfcf26f7cd2d85c2f5d296331301dafada4e13cab1685276d&o='], 'latitude': 8.7284205, 'rankingPosition': 0, 'checkout': {'fromTime': '00:00', 'untilTime': '12:00'}, 'accuratePropertyClass': 3, 'name': 'Regency Tirunelveli By GRT Hotels', 'reviewScoreWord': 'Very good'}}, {'hotel_id': 8358626, 'accessibilityLabel': 'HOTEL BLUEMOON.\\n3 out of 5 stars.\\nThis is a Preferred property.\\n9.0 Superb 88 reviews.\\n\\u200e8.1 km from centre\\u202c.\\nBreakfast included.\\n Hotel room : 1\\xa0bed.\\nOriginal price 46 USD. Current price 36 USD..\\nIncludes taxes and charges.', 'property': {'ufi': -2113255, 'currency': 'INR', 'optOutFromGalleryChanges': 0, 'isFirstPage': True, 'checkoutDate': '2025-07-19', 'position': 1, 'wishlistName': 'Tirunelveli', 'checkin': {'untilTime': '00:00', 'fromTime': '12:00'}, 'reviewScore': 9, 'reviewScoreWord': 'Superb', 'name': 'HOTEL BLUEMOON', 'accuratePropertyClass': 3, 'photoUrls': ['https://cf.bstatic.com/xdata/images/hotel/square500/424222073.jpg?k=a9efeec6884faff88f5bd0e6abc7f827a7cf6b260d5de6c7b818f20feb6b5cf3&o=', 'https://cf.bstatic.com/xdata/images/hotel/square1024/424222073.jpg?k=a9efeec6884faff88f5bd0e6abc7f827a7cf6b260d5de6c7b818f20feb6b5cf3&o=', 'https://cf.bstatic.com/xdata/images/hotel/square2000/424222073.jpg?k=a9efeec6884faff88f5bd0e6abc7f827a7cf6b260d5de6c7b818f20feb6b5cf3&o='], 'latitude': 8.719288, 'checkout': {'fromTime': '00:00', 'untilTime': '11:00'}, 'rankingPosition': 1, 'reviewCount': 88, 'priceBreakdown': {'benefitBadges': [], 'taxExceptions': [], 'grossPrice': {'currency': 'USD', 'value': 36.4879067349168}, 'strikethroughPrice': {'currency': 'USD', 'value': 45.6098833094181}}, 'countryCode': 'in', 'propertyClass': 3, 'mainPhotoId': 424222073, 'longitude': 77.758183, 'qualityClass': 0, 'blockIds': ['835862601_362445250_1_1_0'], 'checkinDate': '2025-07-18', 'isPreferred': True, 'id': 8358626}}, {'hotel_id': 546392, 'accessibilityLabel': 'Sree Bharani Hotels.\\n3 out of 5 stars.\\n6.7 Pleasant 226 reviews.\\n\\u200e2.8 km from centre\\u202c.\\n Hotel room : 1\\xa0bed.\\n36 USD.\\nIncludes taxes and charges.\\nFree cancellation.\\nNo prepayment needed.\\nOnly 3 left at this price on Booking.com.', 'property': {'checkinDate': '2025-07-18', 'id': 546392, 'qualityClass': 0, 'blockIds': ['54639202_85903124_0_42_0'], 'longitude': 77.7109658718109, 'reviewCount': 226, 'priceBreakdown': {'taxExceptions': [], 'grossPrice': {'value': 36.4879067349168, 'currency': 'USD'}, 'benefitBadges': []}, 'countryCode': 'in', 'propertyClass': 3, 'mainPhotoId': 142686390, 'reviewScoreWord': 'Pleasant', 'name': 'Sree Bharani Hotels', 'accuratePropertyClass': 3, 'photoUrls': ['https://cf.bstatic.com/xdata/images/hotel/square500/142686390.jpg?k=1aa2556c32126d90272e871eb971ab2f430c1f58618c9fadf11b6514d6e88785&o=', 'https://cf.bstatic.com/xdata/images/hotel/square1024/142686390.jpg?k=1aa2556c32126d90272e871eb971ab2f430c1f58618c9fadf11b6514d6e88785&o=', 'https://cf.bstatic.com/xdata/images/hotel/square2000/142686390.jpg?k=1aa2556c32126d90272e871eb971ab2f430c1f58618c9fadf11b6514d6e88785&o='], 'latitude': 8.7322608776523, 'checkout': {'untilTime': '12:00', 'fromTime': '00:00'}, 'rankingPosition': 2, 'checkoutDate': '2025-07-19', 'position': 2, 'wishlistName': 'Tirunelveli', 'reviewScore': 6.7, 'checkin': {'untilTime': '00:00', 'fromTime': '12:00'}, 'optOutFromGalleryChanges': 0, 'isFirstPage': True, 'ufi': -2113255, 'currency': 'INR'}}, {'hotel_id': 2466089, 'accessibilityLabel': 'Hotel Sree Annamalaiyar Park.\\n3 out of 5 stars.\\n7.1 Good 148 reviews.\\n\\u200e3.3 km from centre\\u202c.\\nBreakfast included.\\n Hotel room : 1\\xa0bed.\\n35 USD.\\nIncludes taxes and charges.\\nFree cancellation.\\nNo prepayment needed.', 'property': {'countryCode': 'in', 'propertyClass': 3, 'mainPhotoId': 138463001, 'priceBreakdown': {'benefitBadges': [], 'grossPrice': {'currency': 'USD', 'value': 35.1847672086698}, 'taxExceptions': []}, 'reviewCount': 148, 'longitude': 77.7134213000537, 'qualityClass': 0, 'blockIds': ['246608902_102696734_1_41_0'], 'id': 2466089, 'checkinDate': '2025-07-18', 'currency': 'INR', 'ufi': -2113255, 'isFirstPage': True, 'optOutFromGalleryChanges': 0, 'checkin': {'fromTime': '14:00', 'untilTime': '22:00'}, 'reviewScore': 7.1, 'position': 3, 'wishlistName': 'Tirunelveli', 'checkoutDate': '2025-07-19', 'checkout': {'untilTime': '12:00', 'fromTime': '06:00'}, 'rankingPosition': 3, 'photoUrls': ['https://cf.bstatic.com/xdata/images/hotel/square500/138463001.jpg?k=610c9081f33fd0839862dcd32a553ded8570f41e3302473d753c490b2297fe15&o=', 'https://cf.bstatic.com/xdata/images/hotel/square1024/138463001.jpg?k=610c9081f33fd0839862dcd32a553ded8570f41e3302473d753c490b2297fe15&o=', 'https://cf.bstatic.com/xdata/images/hotel/square2000/138463001.jpg?k=610c9081f33fd0839862dcd32a553ded8570f41e3302473d753c490b2297fe15&o='], 'latitude': 8.73954144036135, 'reviewScoreWord': 'Good', 'accuratePropertyClass': 3, 'name': 'Hotel Sree Annamalaiyar Park'}}, {'hotel_id': 14507271, 'accessibilityLabel': 'Homestay By HBM.\\n\\u200e9.3 km from centre\\u202c.\\nNew to Booking.com.\\n Private suite : 1\\xa0bed.\\nOriginal price 43 USD. Current price 34 USD..\\nIncludes taxes and charges.\\nNo prepayment needed.\\nOnly 4 left at this price on Booking.com.', 'property': {'ufi': -2113255, 'currency': 'INR', 'optOutFromGalleryChanges': 0, 'isFirstPage': True, 'checkin': {'untilTime': '18:00', 'fromTime': '12:00'}, 'reviewScore': 0, 'checkoutDate': '2025-07-19', 'position': 4, 'wishlistName': 'Tirunelveli', 'photoUrls': ['https://cf.bstatic.com/xdata/images/hotel/square500/708036826.jpg?k=76ffe79eac055ffbb554250a2bc2067f5ed3fd3a7bf5fd763103a9d0d1c27284&o=', 'https://cf.bstatic.com/xdata/images/hotel/square1024/708036826.jpg?k=76ffe79eac055ffbb554250a2bc2067f5ed3fd3a7bf5fd763103a9d0d1c27284&o=', 'https://cf.bstatic.com/xdata/images/hotel/square2000/708036826.jpg?k=76ffe79eac055ffbb554250a2bc2067f5ed3fd3a7bf5fd763103a9d0d1c27284&o='], 'latitude': 8.7171989, 'checkout': {'fromTime': '10:00', 'untilTime': '11:00'}, 'rankingPosition': 4, 'reviewScoreWord': '', 'name': 'Homestay By HBM', 'accuratePropertyClass': 0, 'priceBreakdown': {'benefitBadges': [], 'taxExceptions': [], 'strikethroughPrice': {'currency': 'USD', 'value': 42.9123844965468}, 'grossPrice': {'currency': 'USD', 'value': 34.3299076794517}}, 'countryCode': 'in', 'propertyClass': 0, 'mainPhotoId': 708036826, 'reviewCount': 0, 'longitude': 77.7685831, 'qualityClass': 0, 'blockIds': ['1450727101_416434422_1_0_0'], 'id': 14507271, 'checkinDate': '2025-07-18'}}, {'hotel_id': 12683809, 'accessibilityLabel': 'Square & Dormitory Stays.\\n7.6 Good 10 reviews.\\n\\u200e4.4 km from centre\\u202c.\\nGetaway Deal.\\n Room with shared bathroom : 2\\xa0beds.\\nOriginal price 31 USD. Current price 16 USD..\\nIncludes taxes and charges.\\nNo prepayment needed.\\nOnly 1 left at this price on Booking.com.', 'property': {'currency': 'INR', 'ufi': -2113255, 'isFirstPage': True, 'optOutFromGalleryChanges': 0, 'reviewScore': 7.6, 'checkin': {'untilTime': '12:00', 'fromTime': '11:00'}, 'position': 5, 'wishlistName': 'Tirunelveli', 'checkoutDate': '2025-07-19', 'checkout': {'fromTime': '11:00', 'untilTime': '12:00'}, 'rankingPosition': 5, 'photoUrls': ['https://cf.bstatic.com/xdata/images/hotel/square500/592901436.jpg?k=d79e59da2aa7cb799c659b3378d93aef6eb8e085d41ebe1a12d67f21cbac3ec5&o=', 'https://cf.bstatic.com/xdata/images/hotel/square1024/592901436.jpg?k=d79e59da2aa7cb799c659b3378d93aef6eb8e085d41ebe1a12d67f21cbac3ec5&o=', 'https://cf.bstatic.com/xdata/images/hotel/square2000/592901436.jpg?k=d79e59da2aa7cb799c659b3378d93aef6eb8e085d41ebe1a12d67f21cbac3ec5&o='], 'latitude': 8.73254799749156, 'reviewScoreWord': 'Good', 'name': 'Square & Dormitory Stays', 'accuratePropertyClass': 0, 'countryCode': 'in', 'propertyClass': 0, 'mainPhotoId': 592901436, 'priceBreakdown': {'benefitBadges': [{'explanation': 'Getaway Deal', 'identifier': 'Getaway 2021 Deals', 'text': 'Getaway Deal', 'variant': 'constructive'}], 'taxExceptions': [], 'strikethroughPrice': {'value': 31.2753485550296, 'currency': 'USD'}, 'grossPrice': {'value': 15.6376743149644, 'currency': 'USD'}}, 'reviewCount': 10, 'longitude': 77.7251591983798, 'qualityClass': 0, 'blockIds': ['1268380909_399561615_2_0_0'], 'id': 12683809, 'checkinDate': '2025-07-18'}}, {'hotel_id': 14263132, 'accessibilityLabel': 'Comfort Inn.\\n3 out of 5 stars.\\n8.8 Fabulous 5 reviews.\\n\\u200e5.6 km from centre\\u202c.\\n Hotel room : 1\\xa0bed.\\n15 USD.\\nIncludes taxes and charges.\\nFree cancellation.\\nNo prepayment needed.', 'property': {'id': 14263132, 'checkinDate': '2025-07-18', 'qualityClass': 0, 'blockIds': ['1426313202_414216204_1_0_0'], 'longitude': 77.7267914301636, 'priceBreakdown': {'benefitBadges': [], 'taxExceptions': [], 'grossPrice': {'currency': 'USD', 'value': 15.2467324570903}}, 'countryCode': 'in', 'propertyClass': 3, 'mainPhotoId': 690112764, 'reviewCount': 5, 'photoUrls': ['https://cf.bstatic.com/xdata/images/hotel/square500/690112764.jpg?k=e45c56884db316a560db50f59a710f0ff056022f9ff7924c1df2e4d0275e1678&o=', 'https://cf.bstatic.com/xdata/images/hotel/square1024/690112764.jpg?k=e45c56884db316a560db50f59a710f0ff056022f9ff7924c1df2e4d0275e1678&o=', 'https://cf.bstatic.com/xdata/images/hotel/square2000/690112764.jpg?k=e45c56884db316a560db50f59a710f0ff056022f9ff7924c1df2e4d0275e1678&o='], 'latitude': 8.70027476527058, 'checkout': {'untilTime': '10:00', 'fromTime': '00:00'}, 'rankingPosition': 6, 'reviewScoreWord': 'Fabulous', 'accuratePropertyClass': 3, 'name': 'Comfort Inn', 'checkin': {'untilTime': '12:00', 'fromTime': '12:00'}, 'reviewScore': 8.8, 'checkoutDate': '2025-07-19', 'position': 6, 'wishlistName': 'Tirunelveli', 'optOutFromGalleryChanges': 0, 'isFirstPage': True, 'ufi': -2113255, 'currency': 'INR'}}, {'hotel_id': 11644699, 'accessibilityLabel': 'Tirunelveli Holiday Home.\\n9.3 Superb 11 reviews.\\n\\u200e9 km from centre\\u202c.\\n Entire villa – 111\\xa0m² : 3\\xa0beds • 2\\xa0bedrooms • 2\\xa0bathrooms.\\n46 USD.\\nIncludes taxes and charges.\\nNo prepayment needed.\\nOnly 1 left at this price on Booking.com.', 'property': {'wishlistName': 'Tirunelveli', 'position': 7, 'checkoutDate': '2025-07-19', 'checkin': {'fromTime': '14:00', 'untilTime': '23:00'}, 'reviewScore': 9.3, 'name': 'Tirunelveli Holiday Home', 'accuratePropertyClass': 0, 'reviewScoreWord': 'Superb', 'rankingPosition': 7, 'checkout': {'untilTime': '15:00', 'fromTime': '13:00'}, 'photoUrls': ['https://cf.bstatic.com/xdata/images/hotel/square500/533187598.jpg?k=249348f5496f313e70ddc85b80f461a568a44b920b4c55aaa49335a53e18acfa&o=', 'https://cf.bstatic.com/xdata/images/hotel/square1024/533187598.jpg?k=249348f5496f313e70ddc85b80f461a568a44b920b4c55aaa49335a53e18acfa&o=', 'https://cf.bstatic.com/xdata/images/hotel/square2000/533187598.jpg?k=249348f5496f313e70ddc85b80f461a568a44b920b4c55aaa49335a53e18acfa&o='], 'latitude': 8.72410032241, 'currency': 'INR', 'ufi': -2113255, 'isFirstPage': True, 'optOutFromGalleryChanges': 0, 'blockIds': ['1164469901_389123330_3_0_0'], 'qualityClass': 0, 'checkinDate': '2025-07-18', 'id': 11644699, 'reviewCount': 11, 'mainPhotoId': 533187598, 'countryCode': 'in', 'propertyClass': 0, 'priceBreakdown': {'benefitBadges': [], 'taxExceptions': [], 'grossPrice': {'value': 45.6007614419622, 'currency': 'USD'}}, 'longitude': 77.767277473707}}, {'hotel_id': 11166780, 'accessibilityLabel': 'Vishaka Daily Rentals.\\n9.0 Superb 7 reviews.\\n\\u200e6.1 km from centre\\u202c.\\n Entire apartment – 84\\xa0m² : 5\\xa0beds • 2\\xa0bedrooms • 1\\xa0living room • 2\\xa0bathrooms.\\n59 USD.\\nIncludes taxes and charges.\\nNo prepayment needed.', 'property': {'longitude': 77.728824979415, 'reviewCount': 7, 'propertyClass': 0, 'countryCode': 'in', 'mainPhotoId': 510540877, 'priceBreakdown': {'benefitBadges': [], 'taxExceptions': [], 'grossPrice': {'value': 58.6412786811162, 'currency': 'USD'}}, 'checkinDate': '2025-07-18', 'id': 11166780, 'qualityClass': 0, 'blockIds': ['1116678001_384546295_6_42_0'], 'isFirstPage': True, 'optOutFromGalleryChanges': 0, 'currency': 'INR', 'ufi': -2113255, 'reviewScoreWord': 'Superb', 'accuratePropertyClass': 0, 'name': 'Vishaka Daily Rentals', 'checkout': {'fromTime': '00:00', 'untilTime': '00:00'}, 'rankingPosition': 8, 'photoUrls': ['https://cf.bstatic.com/xdata/images/hotel/square500/510540877.jpg?k=aeb5ce9e2d26613389a2604b18c0d23c1027bbec5556eef56bfd3502f72c0aaa&o=', 'https://cf.bstatic.com/xdata/images/hotel/square1024/510540877.jpg?k=aeb5ce9e2d26613389a2604b18c0d23c1027bbec5556eef56bfd3502f72c0aaa&o=', 'https://cf.bstatic.com/xdata/images/hotel/square2000/510540877.jpg?k=aeb5ce9e2d26613389a2604b18c0d23c1027bbec5556eef56bfd3502f72c0aaa&o='], 'latitude': 8.695668055682, 'position': 8, 'wishlistName': 'Tirunelveli', 'checkoutDate': '2025-07-19', 'checkin': {'untilTime': '00:00', 'fromTime': '00:00'}, 'reviewScore': 9}}, {'hotel_id': 7783825, 'accessibilityLabel': 'Hotel Palmyra Grand Inn.\\n3 out of 5 stars.\\n6.4 Pleasant 70 reviews.\\n\\u200e3.3 km from centre\\u202c.\\n Hotel room : 2\\xa0beds.\\n26 USD.\\nIncludes taxes and charges.\\nNo prepayment needed.', 'property': {'photoUrls': ['https://cf.bstatic.com/xdata/images/hotel/square500/602445386.jpg?k=41894e6610e95ba56e35ec5ddbb5dd952f3465a9edabaf172550b0ffbc31512b&o=', 'https://cf.bstatic.com/xdata/images/hotel/square1024/602445386.jpg?k=41894e6610e95ba56e35ec5ddbb5dd952f3465a9edabaf172550b0ffbc31512b&o=', 'https://cf.bstatic.com/xdata/images/hotel/square2000/602445386.jpg?k=41894e6610e95ba56e35ec5ddbb5dd952f3465a9edabaf172550b0ffbc31512b&o='], 'latitude': 8.739154, 'checkout': {'fromTime': '12:00', 'untilTime': '12:30'}, 'rankingPosition': 9, 'reviewScoreWord': 'Pleasant', 'accuratePropertyClass': 3, 'name': 'Hotel Palmyra Grand Inn', 'reviewScore': 6.4, 'checkin': {'untilTime': '22:30', 'fromTime': '12:00'}, 'checkoutDate': '2025-07-19', 'position': 9, 'wishlistName': 'Tirunelveli', 'optOutFromGalleryChanges': 0, 'isFirstPage': True, 'ufi': -2113255, 'currency': 'INR', 'id': 7783825, 'checkinDate': '2025-07-18', 'qualityClass': 0, 'blockIds': ['778382501_336207840_1_42_0'], 'longitude': 77.713264, 'priceBreakdown': {'grossPrice': {'currency': 'USD', 'value': 26.32341843019}, 'taxExceptions': [], 'benefitBadges': []}, 'propertyClass': 3, 'countryCode': 'in', 'mainPhotoId': 602445386, 'reviewCount': 70}}, {'hotel_id': 12577066, 'accessibilityLabel': 'DELVIs.\\n6.4 Pleasant 5 reviews.\\n\\u200e10.2 km from centre\\u202c.\\n Entire apartment – 65\\xa0m² : 3\\xa0beds • 2\\xa0bedrooms • 2\\xa0bathrooms.\\n30 USD.\\nIncludes taxes and charges.\\nNo prepayment needed.\\nOnly 1 left at this price on Booking.com.', 'property': {'reviewScoreWord': 'Pleasant', 'accuratePropertyClass': 0, 'name': 'DELVIs', 'latitude': 8.6707344, 'photoUrls': ['https://cf.bstatic.com/xdata/images/hotel/square500/585831581.jpg?k=a55acd49ccb1a328e7d431c2ff40501cac5ee546f76e0e2e344b044a75cafdbc&o=', 'https://cf.bstatic.com/xdata/images/hotel/square1024/585831581.jpg?k=a55acd49ccb1a328e7d431c2ff40501cac5ee546f76e0e2e344b044a75cafdbc&o=', 'https://cf.bstatic.com/xdata/images/hotel/square2000/585831581.jpg?k=a55acd49ccb1a328e7d431c2ff40501cac5ee546f76e0e2e344b044a75cafdbc&o='], 'checkout': {'untilTime': '11:00', 'fromTime': '10:00'}, 'rankingPosition': 10, 'checkoutDate': '2025-07-19', 'position': 10, 'wishlistName': 'Tirunelveli', 'checkin': {'untilTime': '12:00', 'fromTime': '11:00'}, 'reviewScore': 6.4, 'optOutFromGalleryChanges': 0, 'isFirstPage': True, 'ufi': -2113255, 'currency': 'INR', 'checkinDate': '2025-07-18', 'id': 12577066, 'qualityClass': 0, 'blockIds': ['1257706601_398315888_2_0_0'], 'longitude': 77.7566523, 'reviewCount': 5, 'priceBreakdown': {'benefitBadges': [], 'taxExceptions': [], 'grossPrice': {'value': 29.5552044552826, 'currency': 'USD'}}, 'propertyClass': 0, 'countryCode': 'in', 'mainPhotoId': 585831581}}, {'hotel_id': 12542082, 'accessibilityLabel': 'Ganesh Home Stays.\\n6.7 Pleasant 3 reviews.\\n\\u200e8 km from centre\\u202c.\\nGetaway Deal.\\n Private room : 1\\xa0bed.\\nOriginal price 47 USD. Current price 23 USD..\\nIncludes taxes and charges.\\nNo prepayment needed.\\nOnly 3 left at this price on Booking.com.', 'property': {'isFirstPage': True, 'optOutFromGalleryChanges': 0, 'currency': 'INR', 'ufi': -2113255, 'name': 'Ganesh Home Stays', 'accuratePropertyClass': 0, 'reviewScoreWord': 'Pleasant', 'rankingPosition': 11, 'checkout': {'untilTime': '12:00', 'fromTime': '11:00'}, 'latitude': 8.69325804445, 'photoUrls': ['https://cf.bstatic.com/xdata/images/hotel/square500/584092653.jpg?k=d326c670073d0203c3c9142edbf2ba9ce1019bda87883a97cddc82253087eefa&o=', 'https://cf.bstatic.com/xdata/images/hotel/square1024/584092653.jpg?k=d326c670073d0203c3c9142edbf2ba9ce1019bda87883a97cddc82253087eefa&o=', 'https://cf.bstatic.com/xdata/images/hotel/square2000/584092653.jpg?k=d326c670073d0203c3c9142edbf2ba9ce1019bda87883a97cddc82253087eefa&o='], 'wishlistName': 'Tirunelveli', 'position': 11, 'checkoutDate': '2025-07-19', 'reviewScore': 6.7, 'checkin': {'untilTime': '12:00', 'fromTime': '11:00'}, 'longitude': 77.748239968717, 'reviewCount': 3, 'mainPhotoId': 584092653, 'countryCode': 'in', 'propertyClass': 0, 'priceBreakdown': {'taxExceptions': [], 'grossPrice': {'currency': 'USD', 'value': 23.4565114724465}, 'strikethroughPrice': {'currency': 'USD', 'value': 46.9130228325443}, 'benefitBadges': [{'variant': 'constructive', 'text': 'Getaway Deal', 'explanation': 'Getaway Deal', 'identifier': 'Getaway 2021 Deals'}]}, 'checkinDate': '2025-07-18', 'id': 12542082, 'blockIds': ['1254208211_397937190_2_0_0'], 'qualityClass': 0}}, {'hotel_id': 11921314, 'accessibilityLabel': 'Maria Vilas.\\n4 out of 5 for property rating.\\n8.2 Very good 24 reviews.\\n\\u200e8.6 km from centre\\u202c.\\nMobile-only price.\\n Entire apartment – 186\\xa0m² : 5\\xa0beds • 2\\xa0bedrooms • 1\\xa0living room • 2\\xa0bathrooms.\\nOriginal price 70 USD. Current price 58 USD..\\nIncludes taxes and charges.\\nOnly 1 left at this price on Booking.com.', 'property': {'reviewCount': 24, 'priceBreakdown': {'taxExceptions': [], 'grossPrice': {'value': 58.0669664756202, 'currency': 'USD'}, 'strikethroughPrice': {'value': 70.322993565494, 'currency': 'USD'}, 'benefitBadges': [{'identifier': 'Mobile Rate', 'explanation': 'Mobile-only price', 'text': 'Mobile-only price', 'variant': 'constructive'}]}, 'countryCode': 'in', 'propertyClass': 0, 'mainPhotoId': 548099269, 'longitude': 77.757420493437, 'qualityClass': 4, 'blockIds': ['1192131401_391512238_4_0_0'], 'checkinDate': '2025-07-18', 'id': 11921314, 'ufi': -2113255, 'currency': 'INR', 'optOutFromGalleryChanges': 0, 'isFirstPage': True, 'checkoutDate': '2025-07-19', 'position': 12, 'wishlistName': 'Tirunelveli', 'reviewScore': 8.2, 'checkin': {'fromTime': '00:00', 'untilTime': '00:00'}, 'reviewScoreWord': 'Very good', 'name': 'Maria Vilas', 'accuratePropertyClass': 0, 'photoUrls': ['https://cf.bstatic.com/xdata/images/hotel/square500/548099269.jpg?k=78d2c9c407d50091c47188e8645e114b92624197248ed026336fd7969336c5e2&o=', 'https://cf.bstatic.com/xdata/images/hotel/square1024/548099269.jpg?k=78d2c9c407d50091c47188e8645e114b92624197248ed026336fd7969336c5e2&o=', 'https://cf.bstatic.com/xdata/images/hotel/square2000/548099269.jpg?k=78d2c9c407d50091c47188e8645e114b92624197248ed026336fd7969336c5e2&o='], 'latitude': 8.699088023457, 'checkout': {'fromTime': '06:00', 'untilTime': '07:00'}, 'rankingPosition': 12}}, {'hotel_id': 13393428, 'accessibilityLabel': 'Kings Snow Palace.\\n4 out of 5 stars.\\n6.4 Pleasant 5 reviews.\\n\\u200e5.1 km from centre\\u202c.\\n Hotel room : 2\\xa0beds.\\n30 USD.\\nIncludes taxes and charges.\\nFree cancellation.\\nNo prepayment needed.', 'property': {'longitude': 77.7315148742052, 'reviewCount': 5, 'propertyClass': 4, 'countryCode': 'in', 'mainPhotoId': 634678903, 'priceBreakdown': {'grossPrice': {'value': 29.9722091036817, 'currency': 'USD'}, 'taxExceptions': [], 'benefitBadges': []}, 'checkinDate': '2025-07-18', 'id': 13393428, 'qualityClass': 0, 'blockIds': ['1339342801_406357735_2_0_0'], 'isFirstPage': True, 'optOutFromGalleryChanges': 0, 'currency': 'INR', 'ufi': -2113255, 'reviewScoreWord': 'Pleasant', 'accuratePropertyClass': 4, 'name': 'Kings Snow Palace', 'checkout': {'untilTime': '12:00', 'fromTime': '12:00'}, 'rankingPosition': 13, 'photoUrls': ['https://cf.bstatic.com/xdata/images/hotel/square500/634678903.jpg?k=775a9feddd0fd4e41618456651bae0cb087edbf705fc9506cb485bbdc5e86d8e&o=', 'https://cf.bstatic.com/xdata/images/hotel/square1024/634678903.jpg?k=775a9feddd0fd4e41618456651bae0cb087edbf705fc9506cb485bbdc5e86d8e&o=', 'https://cf.bstatic.com/xdata/images/hotel/square2000/634678903.jpg?k=775a9feddd0fd4e41618456651bae0cb087edbf705fc9506cb485bbdc5e86d8e&o='], 'latitude': 8.72464999160731, 'position': 13, 'wishlistName': 'Tirunelveli', 'checkoutDate': '2025-07-19', 'checkin': {'untilTime': '12:00', 'fromTime': '12:00'}, 'reviewScore': 6.4}}, {'hotel_id': 14333685, 'accessibilityLabel': 'Princess Bungalow Stay.\\n4 out of 5 for property rating.\\n\\u200e8.2 km from centre\\u202c.\\nMobile-only price\\nNew to Booking.com.\\n Entire villa – 465\\xa0m² : 13\\xa0beds • 8\\xa0bedrooms • 1\\xa0living room • 6\\xa0bathrooms.\\nOriginal price 257 USD. Current price 232 USD..\\nIncludes taxes and charges.\\nNo prepayment needed.\\nOnly 1 left at this price on Booking.com.', 'property': {'qualityClass': 4, 'blockIds': ['1433368501_414887976_20_0_0'], 'id': 14333685, 'checkinDate': '2025-07-18', 'countryCode': 'in', 'propertyClass': 0, 'mainPhotoId': 694919894, 'priceBreakdown': {'grossPrice': {'currency': 'USD', 'value': 231.685410238463}, 'strikethroughPrice': {'value': 257.428233865894, 'currency': 'USD'}, 'taxExceptions': [], 'benefitBadges': [{'variant': 'constructive', 'text': 'Mobile-only price', 'explanation': 'Mobile-only price', 'identifier': 'Mobile Rate'}]}, 'reviewCount': 0, 'longitude': 77.7539628, 'checkin': {'untilTime': '15:00', 'fromTime': '14:00'}, 'reviewScore': 0, 'position': 14, 'wishlistName': 'Tirunelveli', 'checkoutDate': '2025-07-19', 'checkout': {'fromTime': '11:00', 'untilTime': '12:00'}, 'rankingPosition': 14, 'latitude': 8.6997641, 'photoUrls': ['https://cf.bstatic.com/xdata/images/hotel/square500/694919894.jpg?k=d568e937590a9eb2ffa72ef651b6d8090c6f554673493a0c1caa4c6be5bea56b&o=', 'https://cf.bstatic.com/xdata/images/hotel/square1024/694919894.jpg?k=d568e937590a9eb2ffa72ef651b6d8090c6f554673493a0c1caa4c6be5bea56b&o=', 'https://cf.bstatic.com/xdata/images/hotel/square2000/694919894.jpg?k=d568e937590a9eb2ffa72ef651b6d8090c6f554673493a0c1caa4c6be5bea56b&o='], 'reviewScoreWord': '', 'accuratePropertyClass': 0, 'name': 'Princess Bungalow Stay', 'currency': 'INR', 'ufi': -2113255, 'isFirstPage': True, 'optOutFromGalleryChanges': 1}}, {'hotel_id': 2068561, 'accessibilityLabel': 'The Hotel Raja Palace.\\n3 out of 5 stars.\\n7.1 Good 10 reviews.\\n\\u200e5.2 km from centre\\u202c.\\n Hotel room : 1\\xa0bed.\\n37 USD.\\nIncludes taxes and charges.\\nNo prepayment needed.\\nOnly 1 left at this price on Booking.com.', 'property': {'id': 2068561, 'checkinDate': '2025-07-18', 'qualityClass': 0, 'blockIds': ['206856101_335350805_2_0_0'], 'longitude': 77.732184, 'priceBreakdown': {'grossPrice': {'currency': 'USD', 'value': 37.1394764980403}, 'taxExceptions': [], 'benefitBadges': []}, 'countryCode': 'in', 'propertyClass': 3, 'mainPhotoId': 641740507, 'reviewCount': 10, 'latitude': 8.720893680817, 'photoUrls': ['https://cf.bstatic.com/xdata/images/hotel/square500/641740507.jpg?k=cc921b69972182af56c752d5c40805346a70bf4427073627c7890f33e7a74b09&o=', 'https://cf.bstatic.com/xdata/images/hotel/square1024/641740507.jpg?k=cc921b69972182af56c752d5c40805346a70bf4427073627c7890f33e7a74b09&o=', 'https://cf.bstatic.com/xdata/images/hotel/square2000/641740507.jpg?k=cc921b69972182af56c752d5c40805346a70bf4427073627c7890f33e7a74b09&o='], 'checkout': {'untilTime': '11:30', 'fromTime': '11:00'}, 'rankingPosition': 15, 'reviewScoreWord': 'Good', 'accuratePropertyClass': 3, 'name': 'The Hotel Raja Palace', 'reviewScore': 7.1, 'checkin': {'untilTime': '12:30', 'fromTime': '12:00'}, 'checkoutDate': '2025-07-19', 'position': 15, 'wishlistName': 'Tirunelveli', 'optOutFromGalleryChanges': 1, 'isFirstPage': True, 'ufi': -2113255, 'currency': 'INR'}}, {'hotel_id': 13961914, 'accessibilityLabel': 'MSVG Residency.\\n2 out of 5 stars.\\n7.0 Good 1 review.\\n\\u200e9.2 km from centre\\u202c.\\n Hotel room : 1\\xa0bed.\\n51 USD.\\nIncludes taxes and charges.\\nFree cancellation.\\nNo prepayment needed.', 'property': {'checkin': {'fromTime': '12:00', 'untilTime': '23:00'}, 'reviewScore': 7, 'checkoutDate': '2025-07-19', 'position': 16, 'wishlistName': 'Tirunelveli', 'photoUrls': ['https://cf.bstatic.com/xdata/images/hotel/square500/709698702.jpg?k=0e4d9fb96991b18254b9369777c93ba8d19d99d3585e46a55c454b11ffa05eb8&o=', 'https://cf.bstatic.com/xdata/images/hotel/square1024/709698702.jpg?k=0e4d9fb96991b18254b9369777c93ba8d19d99d3585e46a55c454b11ffa05eb8&o=', 'https://cf.bstatic.com/xdata/images/hotel/square2000/709698702.jpg?k=0e4d9fb96991b18254b9369777c93ba8d19d99d3585e46a55c454b11ffa05eb8&o='], 'latitude': 8.7140572, 'checkout': {'untilTime': '12:00', 'fromTime': '11:00'}, 'rankingPosition': 16, 'reviewScoreWord': 'Good', 'accuratePropertyClass': 2, 'name': 'MSVG Residency', 'ufi': -2113255, 'currency': 'INR', 'optOutFromGalleryChanges': 0, 'isFirstPage': True, 'qualityClass': 0, 'blockIds': ['1396191401_411526590_2_0_0_917198'], 'id': 13961914, 'checkinDate': '2025-07-18', 'priceBreakdown': {'taxExceptions': [], 'grossPrice': {'value': 50.8224415236341, 'currency': 'USD'}, 'benefitBadges': []}, 'countryCode': 'in', 'propertyClass': 2, 'mainPhotoId': 709698702, 'reviewCount': 1, 'longitude': 77.7676282}}, {'hotel_id': 7635240, 'accessibilityLabel': 'JOHN TOWERS.\\n3 out of 5 stars.\\n6.9 Pleasant 16 reviews.\\n\\u200e6.5 km from centre\\u202c.\\n Hotel room : 1\\xa0bed.\\nOriginal price 44 USD. Current price 40 USD..\\nIncludes taxes and charges.\\nFree cancellation.\\nNo prepayment needed.', 'property': {'checkin': {'untilTime': '12:00', 'fromTime': '12:00'}, 'reviewScore': 6.9, 'checkoutDate': '2025-07-19', 'position': 17, 'wishlistName': 'Tirunelveli', 'photoUrls': ['https://cf.bstatic.com/xdata/images/hotel/square500/314223735.jpg?k=9542c8858172a5e5807bd7cbfb7affba7c11a43410c731d5619da05f34765a25&o=', 'https://cf.bstatic.com/xdata/images/hotel/square1024/314223735.jpg?k=9542c8858172a5e5807bd7cbfb7affba7c11a43410c731d5619da05f34765a25&o=', 'https://cf.bstatic.com/xdata/images/hotel/square2000/314223735.jpg?k=9542c8858172a5e5807bd7cbfb7affba7c11a43410c731d5619da05f34765a25&o='], 'latitude': 8.725089, 'checkout': {'untilTime': '11:00', 'fromTime': '10:00'}, 'rankingPosition': 17, 'reviewScoreWord': 'Pleasant', 'accuratePropertyClass': 3, 'name': 'JOHN TOWERS', 'ufi': -2113255, 'currency': 'INR', 'optOutFromGalleryChanges': 0, 'isFirstPage': True, 'qualityClass': 0, 'blockIds': ['763524002_363641018_1_0_0'], 'id': 7635240, 'checkinDate': '2025-07-18', 'priceBreakdown': {'benefitBadges': [], 'taxExceptions': [], 'grossPrice': {'value': 39.8760695031591, 'currency': 'USD'}, 'strikethroughPrice': {'currency': 'USD', 'value': 44.3067437862919}}, 'propertyClass': 3, 'countryCode': 'in', 'mainPhotoId': 314223735, 'reviewCount': 16, 'longitude': 77.744559}}, {'hotel_id': 13148190, 'accessibilityLabel': 'CRUZ Kudil - Lux.\\n3 out of 5 for property rating.\\n7.0 Good 1 review.\\n\\u200e5.4 km from centre\\u202c.\\n Entire villa – 21\\xa0m² : 2\\xa0beds • 1\\xa0bedroom • 1\\xa0bathroom.\\n30 USD.\\nIncludes taxes and charges.\\nNo prepayment needed.\\nOnly 1 left at this price on Booking.com.', 'property': {'qualityClass': 3, 'blockIds': ['1314819001_404250808_1_0_0'], 'checkinDate': '2025-07-18', 'id': 13148190, 'reviewCount': 1, 'priceBreakdown': {'taxExceptions': [], 'grossPrice': {'value': 30.2328370089311, 'currency': 'USD'}, 'benefitBadges': []}, 'propertyClass': 0, 'countryCode': 'in', 'mainPhotoId': 617706526, 'longitude': 77.7203411189131, 'checkoutDate': '2025-07-19', 'position': 18, 'wishlistName': 'Tirunelveli', 'reviewScore': 7, 'checkin': {'fromTime': '11:00', 'untilTime': '12:00'}, 'reviewScoreWord': 'Good', 'name': 'CRUZ Kudil - Lux', 'accuratePropertyClass': 0, 'latitude': 8.69535457744648, 'photoUrls': ['https://cf.bstatic.com/xdata/images/hotel/square500/617706526.jpg?k=69007a2f7b0c3baa34a879d07cd897260eba365440b248866fb8c587677c2a00&o=', 'https://cf.bstatic.com/xdata/images/hotel/square1024/617706526.jpg?k=69007a2f7b0c3baa34a879d07cd897260eba365440b248866fb8c587677c2a00&o=', 'https://cf.bstatic.com/xdata/images/hotel/square2000/617706526.jpg?k=69007a2f7b0c3baa34a879d07cd897260eba365440b248866fb8c587677c2a00&o='], 'checkout': {'untilTime': '12:00', 'fromTime': '11:00'}, 'rankingPosition': 18, 'ufi': -2113255, 'currency': 'INR', 'optOutFromGalleryChanges': 0, 'isFirstPage': True}}, {'hotel_id': 12374269, 'accessibilityLabel': 'PRINCESS Homestay.\\n\\u200e5.1 km from centre\\u202c.\\n Private room : 1\\xa0bed.\\n35 USD.\\nIncludes taxes and charges.\\nNo prepayment needed.\\nOnly 1 left at this price on Booking.com.', 'property': {'position': 19, 'wishlistName': 'Tirunelveli', 'checkoutDate': '2025-07-19', 'checkin': {'untilTime': '23:00', 'fromTime': '12:00'}, 'reviewScore': 0, 'reviewScoreWord': '', 'accuratePropertyClass': 0, 'name': 'PRINCESS Homestay', 'checkout': {'fromTime': '00:00', 'untilTime': '10:00'}, 'rankingPosition': 19, 'latitude': 8.705626590737, 'photoUrls': ['https://cf.bstatic.com/xdata/images/hotel/square500/664307086.jpg?k=cd7ddfa96703b3ef1ac70863e9f8d346cfe759103367b2444f3be435c52e2052&o=', 'https://cf.bstatic.com/xdata/images/hotel/square1024/664307086.jpg?k=cd7ddfa96703b3ef1ac70863e9f8d346cfe759103367b2444f3be435c52e2052&o=', 'https://cf.bstatic.com/xdata/images/hotel/square2000/664307086.jpg?k=cd7ddfa96703b3ef1ac70863e9f8d346cfe759103367b2444f3be435c52e2052&o='], 'currency': 'INR', 'ufi': -2113255, 'isFirstPage': True, 'optOutFromGalleryChanges': 0, 'qualityClass': 0, 'blockIds': ['1237426901_395646371_1_0_0'], 'checkinDate': '2025-07-18', 'id': 12374269, 'reviewCount': 0, 'countryCode': 'in', 'propertyClass': 0, 'mainPhotoId': 664307086, 'priceBreakdown': {'benefitBadges': [], 'taxExceptions': [], 'grossPrice': {'value': 35.1847672086698, 'currency': 'USD'}}, 'longitude': 77.724585347234}}], 'meta': [{'title': '25 properties'}], 'appear': [{'id': 'cma', 'component': {'props': {'fill': True, 'content': {'props': {'fitContentWidth': True, 'items': [{'props': {'component': {'props': {'spacing': 'spacing_half', 'items': [{'props': {'text': [{'font': 'body_2', 'text': \"Commission paid and other benefits may affect an accommodation's ranking.\"}, {'font': 'strong_2', 'color': 'foreground', 'text': '  '}, {'linkActions': [{'props': {'url': 'booking://webview?url=https%3A%2F%2Fm.booking.com%2Fgeneral.en.html%3Faid%3D332731%3Btmpl%3Ddocs%2Fterms-and-conditions'}}], 'text': 'Find out more', 'font': 'body_2', 'color': 'action_foreground'}]}}]}}}}, {'props': {}}, {'props': {'component': {'props': {'accessibilityLabel': 'Close', 'icon': 'close', 'tertiaryTintedColor': 'foreground', 'variant': 'tertiary_tinted'}}}}]}}}}}, {'contentUrl': 'https://mobile-apps.booking.com/json/mobile.saba?route_path=saba-chat-entrypoint&add_bh_info=1&add_genius_percentage_value=1&add_ribbon_text=1&affiliate_id=332731&arrival_date=2025-07-18&autoextend=1&booked_x_times_for_dates=1&booked_x_times_threshold=1&categories_filter_additional_data=&change_popularity_sort_option_copy_tag=1&change_sort_options_copy_tags=1&check_excluded_charge_or_tax=1&check_flexible_dates=1&check_is_candidate_wholesaler=1&currency_code=USD&dark_mode=1&deeplink_sec_since_click=168567.9046729803&departure_date=2025-07-19&dest_ids=-2113255&device_id=57d11ec8bad14e119e4c15a86202c23f&distance_unit=metric&dl_sr_adoption=1&dotd=2&exposure_api_version=2.17&fix_dotd=1&flex_window=0&generate_map_bounding_box=1&get_cny_campaign_banner=1&get_skiing_info=1&guest_qty=1&include_amazon_banner=1&include_apartment_config=1&include_badges_in_price_breakdown=1&include_beach_information=1&include_bh_quality_classification=1&include_block_ids=1&include_bsb_info=1&include_bwallet_hotel_eligibility=1&include_composite_breakdown=1&include_cpc_non_trader_copy=1&include_excluded_charges_detail=1&include_free_cancellation=1&include_genius_badge=1&include_last_reservation=1&include_nr_bookings_best_range_message=1&include_nr_bookings_today=1&include_offered_bed_types=1&include_preview_cards=1&include_rack_rate_savings=1&include_rtb=1&include_ski_information=1&languagecode=en&location_source=recents&mark_first_highlighted_hotel=1&min_saba_version=31&network_type=wifi&new_segments_carousel=1&offset=0&optimized_call=1&outcome=search_results&page_define_enabled=1&pref_match=0&reason=change_sort_options&remove_wishlist_padding=1&room_qty=1&rows=auto&saba=1&saba_payload_root=1&saba_version=50&sb_calendar_open=1&search_type=city&send_ranking_version=1&send_search_id=1&show_beach_filter_badge=1&show_city_distance=1&show_distance_to_beach=1&show_distance_to_nearest_public_transport=1&show_genius_free_breakfast=0&show_if_mobile_deal=1&show_negotiated_rates=1&show_no_prepayment=1&show_policy=1&show_review_score_breakdowns=1&show_selected_filter_values=1&show_soldout=1&sort_by=auto&sort_by_source=sort_options&sort_genius_new_copy=1&source=search_results&temperature_unit=c&travel_purpose=&unfiltered_count_enabled=1&units=metric&use_dest_based_list_creation=1&use_direct_payment=1&user_os=15.5&user_version=36.8-iphone&categories_filter=price%3A%3AUSD-min-max&page=search-results'}, {'id': 'signin_now', 'component': {'props': {'title': 'Sign in and save money', 'text': 'Get instant access to our Genius loyalty programme and enjoy discounts at properties worldwide.'}}}, {'id': 'banner_qualityrating', 'component': {'props': {'title': '', 'text': \"Properties with these icons have been awarded Booking.com's quality rating for homes\"}}}]}}\n"
     ]
    }
   ],
   "source": [
    "from tools.hotel import HotelTool\n",
    "\n",
    "hotel=HotelTool()\n",
    "tool =hotel.hotel_tool_list[0]\n",
    "tool_input = {\"city\": \"tirunelveli\"}\n",
    "output = tool.run(tool_input)\n",
    "\n"
   ]
  },
  {
   "cell_type": "code",
   "execution_count": 2,
   "id": "cd84f93a",
   "metadata": {},
   "outputs": [
    {
     "name": "stdout",
     "output_type": "stream",
     "text": [
      "Regency Tirunelveli By GRT Hotels.\n",
      "3 out of 5 stars.\n",
      "This is a Preferred property.\n",
      "8.4 Very good 294 reviews.\n",
      "‎3.9 km from centre‬.\n",
      "Breakfast included.\n",
      " Hotel room : 1 bed.\n",
      "60 USD.\n",
      "Includes taxes and charges.\n",
      "--------------------------------------------------\n",
      "HOTEL BLUEMOON.\n",
      "3 out of 5 stars.\n",
      "This is a Preferred property.\n",
      "9.0 Superb 88 reviews.\n",
      "‎8.1 km from centre‬.\n",
      "Breakfast included.\n",
      " Hotel room : 1 bed.\n",
      "Original price 46 USD. Current price 36 USD..\n",
      "Includes taxes and charges.\n",
      "--------------------------------------------------\n",
      "Sree Bharani Hotels.\n",
      "3 out of 5 stars.\n",
      "6.7 Pleasant 226 reviews.\n",
      "‎2.8 km from centre‬.\n",
      " Hotel room : 1 bed.\n",
      "36 USD.\n",
      "Includes taxes and charges.\n",
      "Free cancellation.\n",
      "No prepayment needed.\n",
      "Only 3 left at this price on Booking.com.\n",
      "--------------------------------------------------\n",
      "Hotel Sree Annamalaiyar Park.\n",
      "3 out of 5 stars.\n",
      "7.1 Good 148 reviews.\n",
      "‎3.3 km from centre‬.\n",
      "Breakfast included.\n",
      " Hotel room : 1 bed.\n",
      "35 USD.\n",
      "Includes taxes and charges.\n",
      "Free cancellation.\n",
      "No prepayment needed.\n",
      "--------------------------------------------------\n",
      "Homestay By HBM.\n",
      "‎9.3 km from centre‬.\n",
      "New to Booking.com.\n",
      " Private suite : 1 bed.\n",
      "Original price 43 USD. Current price 34 USD..\n",
      "Includes taxes and charges.\n",
      "No prepayment needed.\n",
      "Only 4 left at this price on Booking.com.\n",
      "--------------------------------------------------\n",
      "Square & Dormitory Stays.\n",
      "7.6 Good 10 reviews.\n",
      "‎4.4 km from centre‬.\n",
      "Getaway Deal.\n",
      " Room with shared bathroom : 2 beds.\n",
      "Original price 31 USD. Current price 16 USD..\n",
      "Includes taxes and charges.\n",
      "No prepayment needed.\n",
      "Only 1 left at this price on Booking.com.\n",
      "--------------------------------------------------\n",
      "Comfort Inn.\n",
      "3 out of 5 stars.\n",
      "8.8 Fabulous 5 reviews.\n",
      "‎5.6 km from centre‬.\n",
      " Hotel room : 1 bed.\n",
      "15 USD.\n",
      "Includes taxes and charges.\n",
      "Free cancellation.\n",
      "No prepayment needed.\n",
      "--------------------------------------------------\n",
      "Tirunelveli Holiday Home.\n",
      "9.3 Superb 11 reviews.\n",
      "‎9 km from centre‬.\n",
      " Entire villa – 111 m² : 3 beds • 2 bedrooms • 2 bathrooms.\n",
      "46 USD.\n",
      "Includes taxes and charges.\n",
      "No prepayment needed.\n",
      "Only 1 left at this price on Booking.com.\n",
      "--------------------------------------------------\n",
      "Vishaka Daily Rentals.\n",
      "9.0 Superb 7 reviews.\n",
      "‎6.1 km from centre‬.\n",
      " Entire apartment – 84 m² : 5 beds • 2 bedrooms • 1 living room • 2 bathrooms.\n",
      "59 USD.\n",
      "Includes taxes and charges.\n",
      "No prepayment needed.\n",
      "--------------------------------------------------\n",
      "Hotel Palmyra Grand Inn.\n",
      "3 out of 5 stars.\n",
      "6.4 Pleasant 70 reviews.\n",
      "‎3.3 km from centre‬.\n",
      " Hotel room : 2 beds.\n",
      "26 USD.\n",
      "Includes taxes and charges.\n",
      "No prepayment needed.\n",
      "--------------------------------------------------\n",
      "DELVIs.\n",
      "6.4 Pleasant 5 reviews.\n",
      "‎10.2 km from centre‬.\n",
      " Entire apartment – 65 m² : 3 beds • 2 bedrooms • 2 bathrooms.\n",
      "30 USD.\n",
      "Includes taxes and charges.\n",
      "No prepayment needed.\n",
      "Only 1 left at this price on Booking.com.\n",
      "--------------------------------------------------\n",
      "Ganesh Home Stays.\n",
      "6.7 Pleasant 3 reviews.\n",
      "‎8 km from centre‬.\n",
      "Getaway Deal.\n",
      " Private room : 1 bed.\n",
      "Original price 47 USD. Current price 23 USD..\n",
      "Includes taxes and charges.\n",
      "No prepayment needed.\n",
      "Only 3 left at this price on Booking.com.\n",
      "--------------------------------------------------\n",
      "Maria Vilas.\n",
      "4 out of 5 for property rating.\n",
      "8.2 Very good 24 reviews.\n",
      "‎8.6 km from centre‬.\n",
      "Mobile-only price.\n",
      " Entire apartment – 186 m² : 5 beds • 2 bedrooms • 1 living room • 2 bathrooms.\n",
      "Original price 70 USD. Current price 58 USD..\n",
      "Includes taxes and charges.\n",
      "Only 1 left at this price on Booking.com.\n",
      "--------------------------------------------------\n",
      "Kings Snow Palace.\n",
      "4 out of 5 stars.\n",
      "6.4 Pleasant 5 reviews.\n",
      "‎5.1 km from centre‬.\n",
      " Hotel room : 2 beds.\n",
      "30 USD.\n",
      "Includes taxes and charges.\n",
      "Free cancellation.\n",
      "No prepayment needed.\n",
      "--------------------------------------------------\n",
      "Princess Bungalow Stay.\n",
      "4 out of 5 for property rating.\n",
      "‎8.2 km from centre‬.\n",
      "Mobile-only price\n",
      "New to Booking.com.\n",
      " Entire villa – 465 m² : 13 beds • 8 bedrooms • 1 living room • 6 bathrooms.\n",
      "Original price 257 USD. Current price 232 USD..\n",
      "Includes taxes and charges.\n",
      "No prepayment needed.\n",
      "Only 1 left at this price on Booking.com.\n",
      "--------------------------------------------------\n",
      "The Hotel Raja Palace.\n",
      "3 out of 5 stars.\n",
      "7.1 Good 10 reviews.\n",
      "‎5.2 km from centre‬.\n",
      " Hotel room : 1 bed.\n",
      "37 USD.\n",
      "Includes taxes and charges.\n",
      "No prepayment needed.\n",
      "Only 1 left at this price on Booking.com.\n",
      "--------------------------------------------------\n",
      "MSVG Residency.\n",
      "2 out of 5 stars.\n",
      "7.0 Good 1 review.\n",
      "‎9.2 km from centre‬.\n",
      " Hotel room : 1 bed.\n",
      "51 USD.\n",
      "Includes taxes and charges.\n",
      "Free cancellation.\n",
      "No prepayment needed.\n",
      "--------------------------------------------------\n",
      "JOHN TOWERS.\n",
      "3 out of 5 stars.\n",
      "6.9 Pleasant 16 reviews.\n",
      "‎6.5 km from centre‬.\n",
      " Hotel room : 1 bed.\n",
      "Original price 44 USD. Current price 40 USD..\n",
      "Includes taxes and charges.\n",
      "Free cancellation.\n",
      "No prepayment needed.\n",
      "--------------------------------------------------\n",
      "CRUZ Kudil - Lux.\n",
      "3 out of 5 for property rating.\n",
      "7.0 Good 1 review.\n",
      "‎5.4 km from centre‬.\n",
      " Entire villa – 21 m² : 2 beds • 1 bedroom • 1 bathroom.\n",
      "30 USD.\n",
      "Includes taxes and charges.\n",
      "No prepayment needed.\n",
      "Only 1 left at this price on Booking.com.\n",
      "--------------------------------------------------\n",
      "PRINCESS Homestay.\n",
      "‎5.1 km from centre‬.\n",
      " Private room : 1 bed.\n",
      "35 USD.\n",
      "Includes taxes and charges.\n",
      "No prepayment needed.\n",
      "Only 1 left at this price on Booking.com.\n",
      "--------------------------------------------------\n"
     ]
    }
   ],
   "source": [
    "for item in output['hotels']:\n",
    "    print(item['accessibilityLabel'])\n",
    "    print(\"--------------------------------------------------\")"
   ]
  },
  {
   "cell_type": "code",
   "execution_count": 1,
   "id": "d84df98a",
   "metadata": {},
   "outputs": [
    {
     "name": "stdout",
     "output_type": "stream",
     "text": [
      "{'message': 'You have exceeded the MONTHLY quota for requests on your current plan, BASIC. Upgrade your plan at https://rapidapi.com/DataCrawler/api/booking-com15'}\n"
     ]
    },
    {
     "ename": "KeyError",
     "evalue": "'data'",
     "output_type": "error",
     "traceback": [
      "\u001b[31m---------------------------------------------------------------------------\u001b[39m",
      "\u001b[31mKeyError\u001b[39m                                  Traceback (most recent call last)",
      "\u001b[36mCell\u001b[39m\u001b[36m \u001b[39m\u001b[32mIn[1]\u001b[39m\u001b[32m, line 6\u001b[39m\n\u001b[32m      4\u001b[39m tool =hotel.hotel_tool_list[\u001b[32m0\u001b[39m]\n\u001b[32m      5\u001b[39m tool_input = {\u001b[33m\"\u001b[39m\u001b[33mcity\u001b[39m\u001b[33m\"\u001b[39m: \u001b[33m\"\u001b[39m\u001b[33mtirunelveli\u001b[39m\u001b[33m\"\u001b[39m}\n\u001b[32m----> \u001b[39m\u001b[32m6\u001b[39m output = \u001b[43mtool\u001b[49m\u001b[43m.\u001b[49m\u001b[43mrun\u001b[49m\u001b[43m(\u001b[49m\u001b[33;43m'\u001b[39;49m\u001b[33;43mtirunelveli\u001b[39;49m\u001b[33;43m'\u001b[39;49m\u001b[43m)\u001b[49m\n",
      "\u001b[36mFile \u001b[39m\u001b[32mc:\\Users\\judirispah\\anaconda3\\envs\\travel\\Lib\\site-packages\\langchain_core\\tools\\base.py:883\u001b[39m, in \u001b[36mBaseTool.run\u001b[39m\u001b[34m(self, tool_input, verbose, start_color, color, callbacks, tags, metadata, run_name, run_id, config, tool_call_id, **kwargs)\u001b[39m\n\u001b[32m    881\u001b[39m \u001b[38;5;28;01mif\u001b[39;00m error_to_raise:\n\u001b[32m    882\u001b[39m     run_manager.on_tool_error(error_to_raise)\n\u001b[32m--> \u001b[39m\u001b[32m883\u001b[39m     \u001b[38;5;28;01mraise\u001b[39;00m error_to_raise\n\u001b[32m    884\u001b[39m output = _format_output(content, artifact, tool_call_id, \u001b[38;5;28mself\u001b[39m.name, status)\n\u001b[32m    885\u001b[39m run_manager.on_tool_end(output, color=color, name=\u001b[38;5;28mself\u001b[39m.name, **kwargs)\n",
      "\u001b[36mFile \u001b[39m\u001b[32mc:\\Users\\judirispah\\anaconda3\\envs\\travel\\Lib\\site-packages\\langchain_core\\tools\\base.py:852\u001b[39m, in \u001b[36mBaseTool.run\u001b[39m\u001b[34m(self, tool_input, verbose, start_color, color, callbacks, tags, metadata, run_name, run_id, config, tool_call_id, **kwargs)\u001b[39m\n\u001b[32m    850\u001b[39m     \u001b[38;5;28;01mif\u001b[39;00m config_param := _get_runnable_config_param(\u001b[38;5;28mself\u001b[39m._run):\n\u001b[32m    851\u001b[39m         tool_kwargs |= {config_param: config}\n\u001b[32m--> \u001b[39m\u001b[32m852\u001b[39m     response = \u001b[43mcontext\u001b[49m\u001b[43m.\u001b[49m\u001b[43mrun\u001b[49m\u001b[43m(\u001b[49m\u001b[38;5;28;43mself\u001b[39;49m\u001b[43m.\u001b[49m\u001b[43m_run\u001b[49m\u001b[43m,\u001b[49m\u001b[43m \u001b[49m\u001b[43m*\u001b[49m\u001b[43mtool_args\u001b[49m\u001b[43m,\u001b[49m\u001b[43m \u001b[49m\u001b[43m*\u001b[49m\u001b[43m*\u001b[49m\u001b[43mtool_kwargs\u001b[49m\u001b[43m)\u001b[49m\n\u001b[32m    853\u001b[39m \u001b[38;5;28;01mif\u001b[39;00m \u001b[38;5;28mself\u001b[39m.response_format == \u001b[33m\"\u001b[39m\u001b[33mcontent_and_artifact\u001b[39m\u001b[33m\"\u001b[39m:\n\u001b[32m    854\u001b[39m     \u001b[38;5;28;01mif\u001b[39;00m \u001b[38;5;129;01mnot\u001b[39;00m \u001b[38;5;28misinstance\u001b[39m(response, \u001b[38;5;28mtuple\u001b[39m) \u001b[38;5;129;01mor\u001b[39;00m \u001b[38;5;28mlen\u001b[39m(response) != \u001b[32m2\u001b[39m:\n",
      "\u001b[36mFile \u001b[39m\u001b[32mc:\\Users\\judirispah\\anaconda3\\envs\\travel\\Lib\\site-packages\\langchain_core\\tools\\structured.py:93\u001b[39m, in \u001b[36mStructuredTool._run\u001b[39m\u001b[34m(self, config, run_manager, *args, **kwargs)\u001b[39m\n\u001b[32m     91\u001b[39m     \u001b[38;5;28;01mif\u001b[39;00m config_param := _get_runnable_config_param(\u001b[38;5;28mself\u001b[39m.func):\n\u001b[32m     92\u001b[39m         kwargs[config_param] = config\n\u001b[32m---> \u001b[39m\u001b[32m93\u001b[39m     \u001b[38;5;28;01mreturn\u001b[39;00m \u001b[38;5;28;43mself\u001b[39;49m\u001b[43m.\u001b[49m\u001b[43mfunc\u001b[49m\u001b[43m(\u001b[49m\u001b[43m*\u001b[49m\u001b[43margs\u001b[49m\u001b[43m,\u001b[49m\u001b[43m \u001b[49m\u001b[43m*\u001b[49m\u001b[43m*\u001b[49m\u001b[43mkwargs\u001b[49m\u001b[43m)\u001b[49m\n\u001b[32m     94\u001b[39m msg = \u001b[33m\"\u001b[39m\u001b[33mStructuredTool does not support sync invocation.\u001b[39m\u001b[33m\"\u001b[39m\n\u001b[32m     95\u001b[39m \u001b[38;5;28;01mraise\u001b[39;00m \u001b[38;5;167;01mNotImplementedError\u001b[39;00m(msg)\n",
      "\u001b[36mFile \u001b[39m\u001b[32mc:\\users\\judirispah\\desktop\\travel\\ai_travel_agent\\tools\\hotel.py:38\u001b[39m, in \u001b[36mHotelTool._setup_tools.<locals>.hotel\u001b[39m\u001b[34m(city)\u001b[39m\n\u001b[32m     33\u001b[39m data = response.json()\n\u001b[32m     34\u001b[39m \u001b[38;5;28mprint\u001b[39m(data)\n\u001b[32m---> \u001b[39m\u001b[32m38\u001b[39m des_id=\u001b[43mdata\u001b[49m\u001b[43m[\u001b[49m\u001b[33;43m'\u001b[39;49m\u001b[33;43mdata\u001b[39;49m\u001b[33;43m'\u001b[39;49m\u001b[43m]\u001b[49m[\u001b[32m0\u001b[39m].get(\u001b[33m'\u001b[39m\u001b[33mdest_id\u001b[39m\u001b[33m'\u001b[39m,\u001b[33m'\u001b[39m\u001b[33m'\u001b[39m)\n\u001b[32m     39\u001b[39m \u001b[38;5;28mprint\u001b[39m(des_id)\n\u001b[32m     41\u001b[39m hotel_data=\u001b[38;5;28mself\u001b[39m.rapid.Hotel_Price(des_id)\n",
      "\u001b[31mKeyError\u001b[39m: 'data'"
     ]
    }
   ],
   "source": [
    "from tools.hotel import HotelTool\n",
    "\n",
    "hotel=HotelTool()\n",
    "tool =hotel.hotel_tool_list[0]\n",
    "tool_input = {\"city\": \"tirunelveli\"}\n",
    "output = tool.run('tirunelveli')\n"
   ]
  },
  {
   "cell_type": "code",
   "execution_count": 1,
   "id": "97f03fc3",
   "metadata": {},
   "outputs": [
    {
     "data": {
      "text/plain": [
       "'the 199.0USD to INR is : \\n17102.9157'"
      ]
     },
     "execution_count": 1,
     "metadata": {},
     "output_type": "execute_result"
    }
   ],
   "source": [
    "from tools.currency_conversion import CurrencyConverterTool\n",
    "tool=CurrencyConverterTool()\n",
    "tool.currency_converter_tool_list[0].run({'amount':199,'from_currency':'USD','to_currency':\"INR\"})"
   ]
  },
  {
   "cell_type": "code",
   "execution_count": null,
   "id": "9c0eb35e",
   "metadata": {},
   "outputs": [],
   "source": []
  }
 ],
 "metadata": {
  "kernelspec": {
   "display_name": "travel",
   "language": "python",
   "name": "python3"
  },
  "language_info": {
   "codemirror_mode": {
    "name": "ipython",
    "version": 3
   },
   "file_extension": ".py",
   "mimetype": "text/x-python",
   "name": "python",
   "nbconvert_exporter": "python",
   "pygments_lexer": "ipython3",
   "version": "3.13.5"
  }
 },
 "nbformat": 4,
 "nbformat_minor": 5
}
