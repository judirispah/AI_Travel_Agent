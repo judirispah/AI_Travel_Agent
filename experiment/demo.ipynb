{
 "cells": [
  {
   "cell_type": "code",
   "execution_count": null,
   "id": "52235417",
   "metadata": {},
   "outputs": [],
   "source": []
  },
  {
   "cell_type": "code",
   "execution_count": null,
   "id": "e559124a",
   "metadata": {},
   "outputs": [],
   "source": []
  },
  {
   "cell_type": "code",
   "execution_count": null,
   "id": "01a17964",
   "metadata": {},
   "outputs": [],
   "source": []
  },
  {
   "cell_type": "code",
   "execution_count": 9,
   "id": "f1d985ca",
   "metadata": {},
   "outputs": [
    {
     "data": {
      "text/plain": [
       "'Google cannot find the details due to REQUEST_DENIED (You must enable Billing on the Google Cloud Project at https://console.cloud.google.com/project/_/billing/enable Learn more at https://developers.google.com/maps/gmp-get-started). \\nFollowing are the modes of transportation available in tirunelveli: Tirunelveli offers several transportation modes for both local and long-distance travel. Road transport includes buses that serve even remote parts of the district, along with various taxi and cab services ranging from standard taxis for short city trips to luxury cars for premium travel experiences. The city has well-established bus stations and railway connectivity for train travel. Air transport is available through the local airport, and the city also has access to seaport facilities for maritime transport. Call taxis provide a convenient option for tourists looking to explore popular destinations and scenic areas around the city, offering an efficient and simple transportation solution for visitors.'"
      ]
     },
     "execution_count": 9,
     "metadata": {},
     "output_type": "execute_result"
    }
   ],
   "source": [
    "from tools.activity import PlaceTool\n",
    "\n",
    "place=PlaceTool()\n",
    "place.place_search_tool_list[3].run('tirunelveli')"
   ]
  },
  {
   "cell_type": "code",
   "execution_count": 11,
   "id": "710368da",
   "metadata": {},
   "outputs": [
    {
     "data": {
      "text/plain": [
       "[StructuredTool(name='search_attractions', description='Search attractions of a place', args_schema=<class 'langchain_core.utils.pydantic.search_attractions'>, func=<function PlaceTool._setup_tools.<locals>.search_attractions at 0x0000020B0C2507C0>),\n",
       " StructuredTool(name='search_restaurants', description='Search restaurants of a place', args_schema=<class 'langchain_core.utils.pydantic.search_restaurants'>, func=<function PlaceTool._setup_tools.<locals>.search_restaurants at 0x0000020B0C2523E0>),\n",
       " StructuredTool(name='search_activities', description='Search activities of a place', args_schema=<class 'langchain_core.utils.pydantic.search_activities'>, func=<function PlaceTool._setup_tools.<locals>.search_activities at 0x0000020B0C250C20>),\n",
       " StructuredTool(name='search_transportation', description='Search transportation of a place', args_schema=<class 'langchain_core.utils.pydantic.search_transportation'>, func=<function PlaceTool._setup_tools.<locals>.search_transportation at 0x0000020B0C251BC0>)]"
      ]
     },
     "execution_count": 11,
     "metadata": {},
     "output_type": "execute_result"
    }
   ],
   "source": [
    "from tools.activity import PlaceTool\n",
    "\n",
    "place = PlaceTool()\n",
    "\n",
    "# Run tool: 0 = search_attractions\n",
    "place.place_search_tool_list\n",
    "\n"
   ]
  },
  {
   "cell_type": "code",
   "execution_count": null,
   "id": "384c2e1c",
   "metadata": {},
   "outputs": [],
   "source": []
  },
  {
   "cell_type": "code",
   "execution_count": null,
   "id": "464cef54",
   "metadata": {},
   "outputs": [],
   "source": []
  }
 ],
 "metadata": {
  "kernelspec": {
   "display_name": "travel",
   "language": "python",
   "name": "python3"
  },
  "language_info": {
   "codemirror_mode": {
    "name": "ipython",
    "version": 3
   },
   "file_extension": ".py",
   "mimetype": "text/x-python",
   "name": "python",
   "nbconvert_exporter": "python",
   "pygments_lexer": "ipython3",
   "version": "3.13.5"
  }
 },
 "nbformat": 4,
 "nbformat_minor": 5
}
